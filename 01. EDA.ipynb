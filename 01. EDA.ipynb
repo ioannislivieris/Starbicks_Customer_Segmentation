{
  "cells": [
    {
      "cell_type": "markdown",
      "metadata": {
        "colab_type": "text",
        "id": "fo0VOzmjbvuF"
      },
      "source": [
        "# Starbucks offers: Advanced customer segmentation with Python\n",
        "_This is a Udacity Data Science Nanodegree Capstone project._"
      ]
    },
    {
      "cell_type": "markdown",
      "metadata": {
        "colab_type": "text",
        "id": "uUiC1fG3bvuH"
      },
      "source": [
        "## Dataset\n",
        "\n",
        "The data is contained in three files:\n",
        "\n",
        "* portfolio.json - containing offer ids and meta data about each offer (duration, type, etc.)\n",
        "* profile.json - demographic data for each customer\n",
        "* transcript.json - records for transactions, offers received, offers viewed, and offers completed\n",
        "\n",
        "Here is the schema and explanation of each variable in the files:\n",
        "\n",
        "**portfolio.json**\n",
        "* id (string) - offer id\n",
        "* offer_type (string) - type of offer ie BOGO, discount, informational\n",
        "* difficulty (int) - minimum required spend to complete an offer\n",
        "* reward (int) - reward given for completing an offer\n",
        "* duration (int) - time for offer to be open, in days\n",
        "* channels (list of strings)\n",
        "\n",
        "**profile.json**\n",
        "* age (int) - age of the customer \n",
        "* became_member_on (int) - date when customer created an app account\n",
        "* gender (str) - gender of the customer (note some entries contain 'O' for other rather than M or F)\n",
        "* id (str) - customer id\n",
        "* income (float) - customer's income\n",
        "\n",
        "**transcript.json**\n",
        "* event (str) - record description (ie transaction, offer received, offer viewed, etc.)\n",
        "* person (str) - customer id\n",
        "* time (int) - time in hours since start of test. The data begins at time t=0\n",
        "* value - (dict of strings) - either an offer id or transaction amount depending on the record"
      ]
    },
    {
      "cell_type": "markdown",
      "metadata": {},
      "source": [
        "# Libraries"
      ]
    },
    {
      "cell_type": "code",
      "execution_count": 36,
      "metadata": {
        "colab": {},
        "colab_type": "code",
        "id": "dzss145jbvuI"
      },
      "outputs": [],
      "source": [
        "# =-=-=-=-=-=-=-=-=-=-=-=-=-=-=-=-=-=-=-=-=-=-=-=-=-=-=-=-=-=-=\n",
        "# Basic libraries\n",
        "#\n",
        "import pandas as pd\n",
        "import numpy as np\n",
        "import math\n",
        "import json\n",
        "# import datetime\n",
        "\n",
        "# =-=-=-=-=-=-=-=-=-=-=-=-=-=-=-=-=-=-=-=-=-=-=-=-=-=-=-=-=-=-=\n",
        "# Visualization libraries\n",
        "#\n",
        "import seaborn as sns\n",
        "import matplotlib.pyplot as plt\n",
        "# import plotly.express as px\n",
        "\n",
        "from sklearn.preprocessing import MultiLabelBinarizer\n",
        "from sklearn.preprocessing import StandardScaler\n",
        "from sklearn.decomposition import PCA\n",
        "# from sklearn.neighbors import NearestNeighbors\n",
        "# from sklearn.preprocessing import LabelEncoder\n",
        "# from sklearn import metrics\n",
        "\n",
        "\n",
        "from lifetimes.utils import summary_data_from_transaction_data"
      ]
    },
    {
      "cell_type": "markdown",
      "metadata": {},
      "source": [
        "# Import Data"
      ]
    },
    {
      "cell_type": "code",
      "execution_count": 2,
      "metadata": {
        "colab": {},
        "colab_type": "code",
        "id": "Jdudq4n8l-t7"
      },
      "outputs": [],
      "source": [
        "# Load JSON files\n",
        "portfolio  = pd.read_json('data/portfolio.json', orient='records', lines=True)\n",
        "profile    = pd.read_json('data/profile.json', orient='records', lines=True)\n",
        "transcript = pd.read_json('data/transcript.json', orient='records', lines=True)"
      ]
    },
    {
      "cell_type": "markdown",
      "metadata": {
        "colab_type": "text",
        "id": "xs_waiS5cg4A"
      },
      "source": [
        "## Pre-process data"
      ]
    },
    {
      "cell_type": "code",
      "execution_count": 3,
      "metadata": {
        "colab": {
          "base_uri": "https://localhost:8080/",
          "height": 251
        },
        "colab_type": "code",
        "id": "LmCRxfdPoJxv",
        "outputId": "79de651a-3102-4bd3-ec4c-cc70d0fa5d1b"
      },
      "outputs": [],
      "source": [
        "# convert dates to Datetime\n",
        "profile['became_member_on'] = pd.to_datetime(profile['became_member_on'], format='%Y%m%d')\n",
        "\n",
        "# fill empty genders\n",
        "profile['gender'] = profile['gender'].fillna('NA')"
      ]
    },
    {
      "cell_type": "markdown",
      "metadata": {
        "colab_type": "text",
        "id": "Hfm-BJhXbTFZ"
      },
      "source": [
        "### Impute income"
      ]
    },
    {
      "cell_type": "code",
      "execution_count": 4,
      "metadata": {
        "colab": {},
        "colab_type": "code",
        "id": "5bsB-33hbTg9"
      },
      "outputs": [],
      "source": [
        "profile['income_na'] = profile['income'].isna().astype(int)\n",
        "profile['income'] = profile['income'].fillna(profile['income'].mean())"
      ]
    },
    {
      "cell_type": "markdown",
      "metadata": {
        "colab_type": "text",
        "id": "2ZNH_uMehrxF"
      },
      "source": [
        "### One-hot encoding"
      ]
    },
    {
      "cell_type": "code",
      "execution_count": 5,
      "metadata": {
        "colab": {
          "base_uri": "https://localhost:8080/",
          "height": 202
        },
        "colab_type": "code",
        "id": "phsh6pEdhrUF",
        "outputId": "1dc2aea9-4ce4-4fa0-c735-cececb043cb0"
      },
      "outputs": [
        {
          "data": {
            "text/html": [
              "<div>\n",
              "<style scoped>\n",
              "    .dataframe tbody tr th:only-of-type {\n",
              "        vertical-align: middle;\n",
              "    }\n",
              "\n",
              "    .dataframe tbody tr th {\n",
              "        vertical-align: top;\n",
              "    }\n",
              "\n",
              "    .dataframe thead th {\n",
              "        text-align: right;\n",
              "    }\n",
              "</style>\n",
              "<table border=\"1\" class=\"dataframe\">\n",
              "  <thead>\n",
              "    <tr style=\"text-align: right;\">\n",
              "      <th></th>\n",
              "      <th>reward</th>\n",
              "      <th>channels</th>\n",
              "      <th>difficulty</th>\n",
              "      <th>duration</th>\n",
              "      <th>offer_type</th>\n",
              "      <th>id</th>\n",
              "      <th>email</th>\n",
              "      <th>mobile</th>\n",
              "      <th>social</th>\n",
              "      <th>web</th>\n",
              "      <th>bogo</th>\n",
              "      <th>discount</th>\n",
              "      <th>informational</th>\n",
              "    </tr>\n",
              "  </thead>\n",
              "  <tbody>\n",
              "    <tr>\n",
              "      <th>0</th>\n",
              "      <td>10</td>\n",
              "      <td>[email, mobile, social]</td>\n",
              "      <td>10</td>\n",
              "      <td>7</td>\n",
              "      <td>bogo</td>\n",
              "      <td>ae264e3637204a6fb9bb56bc8210ddfd</td>\n",
              "      <td>1</td>\n",
              "      <td>1</td>\n",
              "      <td>1</td>\n",
              "      <td>0</td>\n",
              "      <td>1</td>\n",
              "      <td>0</td>\n",
              "      <td>0</td>\n",
              "    </tr>\n",
              "    <tr>\n",
              "      <th>1</th>\n",
              "      <td>10</td>\n",
              "      <td>[web, email, mobile, social]</td>\n",
              "      <td>10</td>\n",
              "      <td>5</td>\n",
              "      <td>bogo</td>\n",
              "      <td>4d5c57ea9a6940dd891ad53e9dbe8da0</td>\n",
              "      <td>1</td>\n",
              "      <td>1</td>\n",
              "      <td>1</td>\n",
              "      <td>1</td>\n",
              "      <td>1</td>\n",
              "      <td>0</td>\n",
              "      <td>0</td>\n",
              "    </tr>\n",
              "    <tr>\n",
              "      <th>2</th>\n",
              "      <td>0</td>\n",
              "      <td>[web, email, mobile]</td>\n",
              "      <td>0</td>\n",
              "      <td>4</td>\n",
              "      <td>informational</td>\n",
              "      <td>3f207df678b143eea3cee63160fa8bed</td>\n",
              "      <td>1</td>\n",
              "      <td>1</td>\n",
              "      <td>0</td>\n",
              "      <td>1</td>\n",
              "      <td>0</td>\n",
              "      <td>0</td>\n",
              "      <td>1</td>\n",
              "    </tr>\n",
              "  </tbody>\n",
              "</table>\n",
              "</div>"
            ],
            "text/plain": [
              "   reward                      channels  difficulty  duration     offer_type  \\\n",
              "0      10       [email, mobile, social]          10         7           bogo   \n",
              "1      10  [web, email, mobile, social]          10         5           bogo   \n",
              "2       0          [web, email, mobile]           0         4  informational   \n",
              "\n",
              "                                 id  email  mobile  social  web  bogo  \\\n",
              "0  ae264e3637204a6fb9bb56bc8210ddfd      1       1       1    0     1   \n",
              "1  4d5c57ea9a6940dd891ad53e9dbe8da0      1       1       1    1     1   \n",
              "2  3f207df678b143eea3cee63160fa8bed      1       1       0    1     0   \n",
              "\n",
              "   discount  informational  \n",
              "0         0              0  \n",
              "1         0              0  \n",
              "2         0              1  "
            ]
          },
          "execution_count": 5,
          "metadata": {},
          "output_type": "execute_result"
        }
      ],
      "source": [
        "# channel dummies\n",
        "mlb = MultiLabelBinarizer()\n",
        "channel_dummies = pd.DataFrame(mlb.fit_transform(portfolio['channels']), columns=mlb.classes_, index=portfolio.index)\n",
        "\n",
        "# offer type dummies\n",
        "offer_type_dummies = portfolio['offer_type'].str.get_dummies()\n",
        "\n",
        "portfolio = pd.concat([portfolio, channel_dummies, offer_type_dummies], axis=1)\n",
        "\n",
        "#portfolio.drop(['channels', 'offer_type'], axis=1, inplace=True)\n",
        "\n",
        "portfolio.head( 3 )"
      ]
    },
    {
      "cell_type": "code",
      "execution_count": 6,
      "metadata": {
        "colab": {
          "base_uri": "https://localhost:8080/",
          "height": 222
        },
        "colab_type": "code",
        "id": "SwwAUtago7KY",
        "outputId": "05605b5b-320e-4ed2-aac5-fbeea4e79d17"
      },
      "outputs": [
        {
          "data": {
            "text/html": [
              "<div>\n",
              "<style scoped>\n",
              "    .dataframe tbody tr th:only-of-type {\n",
              "        vertical-align: middle;\n",
              "    }\n",
              "\n",
              "    .dataframe tbody tr th {\n",
              "        vertical-align: top;\n",
              "    }\n",
              "\n",
              "    .dataframe thead th {\n",
              "        text-align: right;\n",
              "    }\n",
              "</style>\n",
              "<table border=\"1\" class=\"dataframe\">\n",
              "  <thead>\n",
              "    <tr style=\"text-align: right;\">\n",
              "      <th></th>\n",
              "      <th>gender</th>\n",
              "      <th>age</th>\n",
              "      <th>id</th>\n",
              "      <th>income</th>\n",
              "      <th>income_na</th>\n",
              "      <th>gender_F</th>\n",
              "      <th>gender_M</th>\n",
              "      <th>gender_NA</th>\n",
              "      <th>gender_O</th>\n",
              "      <th>year_joined_2013</th>\n",
              "      <th>year_joined_2014</th>\n",
              "      <th>year_joined_2015</th>\n",
              "      <th>year_joined_2016</th>\n",
              "      <th>year_joined_2017</th>\n",
              "      <th>year_joined_2018</th>\n",
              "    </tr>\n",
              "  </thead>\n",
              "  <tbody>\n",
              "    <tr>\n",
              "      <th>0</th>\n",
              "      <td>NA</td>\n",
              "      <td>118</td>\n",
              "      <td>68be06ca386d4c31939f3a4f0e3dd783</td>\n",
              "      <td>65404.991568</td>\n",
              "      <td>1</td>\n",
              "      <td>0</td>\n",
              "      <td>0</td>\n",
              "      <td>1</td>\n",
              "      <td>0</td>\n",
              "      <td>0</td>\n",
              "      <td>0</td>\n",
              "      <td>0</td>\n",
              "      <td>0</td>\n",
              "      <td>1</td>\n",
              "      <td>0</td>\n",
              "    </tr>\n",
              "    <tr>\n",
              "      <th>1</th>\n",
              "      <td>F</td>\n",
              "      <td>55</td>\n",
              "      <td>0610b486422d4921ae7d2bf64640c50b</td>\n",
              "      <td>112000.000000</td>\n",
              "      <td>0</td>\n",
              "      <td>1</td>\n",
              "      <td>0</td>\n",
              "      <td>0</td>\n",
              "      <td>0</td>\n",
              "      <td>0</td>\n",
              "      <td>0</td>\n",
              "      <td>0</td>\n",
              "      <td>0</td>\n",
              "      <td>1</td>\n",
              "      <td>0</td>\n",
              "    </tr>\n",
              "    <tr>\n",
              "      <th>2</th>\n",
              "      <td>NA</td>\n",
              "      <td>118</td>\n",
              "      <td>38fe809add3b4fcf9315a9694bb96ff5</td>\n",
              "      <td>65404.991568</td>\n",
              "      <td>1</td>\n",
              "      <td>0</td>\n",
              "      <td>0</td>\n",
              "      <td>1</td>\n",
              "      <td>0</td>\n",
              "      <td>0</td>\n",
              "      <td>0</td>\n",
              "      <td>0</td>\n",
              "      <td>0</td>\n",
              "      <td>0</td>\n",
              "      <td>1</td>\n",
              "    </tr>\n",
              "  </tbody>\n",
              "</table>\n",
              "</div>"
            ],
            "text/plain": [
              "  gender  age                                id         income  income_na  \\\n",
              "0     NA  118  68be06ca386d4c31939f3a4f0e3dd783   65404.991568          1   \n",
              "1      F   55  0610b486422d4921ae7d2bf64640c50b  112000.000000          0   \n",
              "2     NA  118  38fe809add3b4fcf9315a9694bb96ff5   65404.991568          1   \n",
              "\n",
              "   gender_F  gender_M  gender_NA  gender_O  year_joined_2013  \\\n",
              "0         0         0          1         0                 0   \n",
              "1         1         0          0         0                 0   \n",
              "2         0         0          1         0                 0   \n",
              "\n",
              "   year_joined_2014  year_joined_2015  year_joined_2016  year_joined_2017  \\\n",
              "0                 0                 0                 0                 1   \n",
              "1                 0                 0                 0                 1   \n",
              "2                 0                 0                 0                 0   \n",
              "\n",
              "   year_joined_2018  \n",
              "0                 0  \n",
              "1                 0  \n",
              "2                 1  "
            ]
          },
          "execution_count": 6,
          "metadata": {},
          "output_type": "execute_result"
        }
      ],
      "source": [
        "# gender type dummies\n",
        "profile['year_joined'] = profile['became_member_on'].apply(lambda x: str(x.year))\n",
        "\n",
        "gender_dummies      = profile['gender'].str.get_dummies().add_prefix('gender_')\n",
        "year_joined_dummies = profile['year_joined'].str.get_dummies().add_prefix('year_joined_')\n",
        "\n",
        "profile = pd.concat([profile, gender_dummies, year_joined_dummies], axis=1)\n",
        "\n",
        "#profile.drop(['gender'], axis=1, inplace=True)\n",
        "profile.drop(['became_member_on'], axis=1, inplace=True)\n",
        "profile.drop(['year_joined'], axis=1, inplace=True)\n",
        "\n",
        "profile.head( 3 )"
      ]
    },
    {
      "cell_type": "code",
      "execution_count": 7,
      "metadata": {
        "colab": {
          "base_uri": "https://localhost:8080/",
          "height": 202
        },
        "colab_type": "code",
        "id": "ZlEEg--2BNlo",
        "outputId": "5cda20e7-df48-4992-b4d3-267ee85106d2"
      },
      "outputs": [
        {
          "data": {
            "text/html": [
              "<div>\n",
              "<style scoped>\n",
              "    .dataframe tbody tr th:only-of-type {\n",
              "        vertical-align: middle;\n",
              "    }\n",
              "\n",
              "    .dataframe tbody tr th {\n",
              "        vertical-align: top;\n",
              "    }\n",
              "\n",
              "    .dataframe thead th {\n",
              "        text-align: right;\n",
              "    }\n",
              "</style>\n",
              "<table border=\"1\" class=\"dataframe\">\n",
              "  <thead>\n",
              "    <tr style=\"text-align: right;\">\n",
              "      <th></th>\n",
              "      <th>person</th>\n",
              "      <th>event</th>\n",
              "      <th>value</th>\n",
              "      <th>time</th>\n",
              "      <th>offer_completed</th>\n",
              "      <th>offer_received</th>\n",
              "      <th>offer_viewed</th>\n",
              "    </tr>\n",
              "  </thead>\n",
              "  <tbody>\n",
              "    <tr>\n",
              "      <th>0</th>\n",
              "      <td>78afa995795e4d85b5d9ceeca43f5fef</td>\n",
              "      <td>offer received</td>\n",
              "      <td>{'offer id': '9b98b8c7a33c4b65b9aebfe6a799e6d9'}</td>\n",
              "      <td>0</td>\n",
              "      <td>0</td>\n",
              "      <td>1</td>\n",
              "      <td>0</td>\n",
              "    </tr>\n",
              "    <tr>\n",
              "      <th>1</th>\n",
              "      <td>a03223e636434f42ac4c3df47e8bac43</td>\n",
              "      <td>offer received</td>\n",
              "      <td>{'offer id': '0b1e1539f2cc45b7b9fa7c272da2e1d7'}</td>\n",
              "      <td>0</td>\n",
              "      <td>0</td>\n",
              "      <td>1</td>\n",
              "      <td>0</td>\n",
              "    </tr>\n",
              "    <tr>\n",
              "      <th>2</th>\n",
              "      <td>e2127556f4f64592b11af22de27a7932</td>\n",
              "      <td>offer received</td>\n",
              "      <td>{'offer id': '2906b810c7d4411798c6938adc9daaa5'}</td>\n",
              "      <td>0</td>\n",
              "      <td>0</td>\n",
              "      <td>1</td>\n",
              "      <td>0</td>\n",
              "    </tr>\n",
              "  </tbody>\n",
              "</table>\n",
              "</div>"
            ],
            "text/plain": [
              "                             person           event  \\\n",
              "0  78afa995795e4d85b5d9ceeca43f5fef  offer received   \n",
              "1  a03223e636434f42ac4c3df47e8bac43  offer received   \n",
              "2  e2127556f4f64592b11af22de27a7932  offer received   \n",
              "\n",
              "                                              value  time  offer_completed  \\\n",
              "0  {'offer id': '9b98b8c7a33c4b65b9aebfe6a799e6d9'}     0                0   \n",
              "1  {'offer id': '0b1e1539f2cc45b7b9fa7c272da2e1d7'}     0                0   \n",
              "2  {'offer id': '2906b810c7d4411798c6938adc9daaa5'}     0                0   \n",
              "\n",
              "   offer_received  offer_viewed  \n",
              "0               1             0  \n",
              "1               1             0  \n",
              "2               1             0  "
            ]
          },
          "execution_count": 7,
          "metadata": {},
          "output_type": "execute_result"
        }
      ],
      "source": [
        "# event dummies\n",
        "event_dummies = transcript['event'].str.get_dummies()\n",
        "event_dummies.drop('transaction', axis=1, inplace=True)\n",
        "\n",
        "transcript = pd.concat([transcript, event_dummies], axis=1)\n",
        "transcript.rename(columns={'offer completed': 'offer_completed', 'offer received': 'offer_received', 'offer viewed': 'offer_viewed'}, inplace=True)\n",
        "\n",
        "#profile.drop(['event'], axis=1, inplace=True)\n",
        "\n",
        "transcript.head( 3 )"
      ]
    },
    {
      "cell_type": "markdown",
      "metadata": {
        "colab_type": "text",
        "id": "Lw0J91hy9dvc"
      },
      "source": [
        "### Split offer and transaction dataframes\n"
      ]
    },
    {
      "cell_type": "code",
      "execution_count": 8,
      "metadata": {
        "colab": {},
        "colab_type": "code",
        "id": "4-hAD4rl9eOv"
      },
      "outputs": [],
      "source": [
        "transactions = transcript.query('event == \"transaction\"').copy()\n",
        "transactions['amount'] = transactions['value'].apply(lambda x: list(x.values())[0])\n",
        "transactions.drop(['value', 'offer_completed', 'offer_received', 'offer_viewed'], axis=1, inplace=True)\n",
        "\n",
        "offers = transcript.query('event != \"transaction\"').copy()\n",
        "offers['offer_id'] = offers['value'].apply(lambda x: list(x.values())[0])\n",
        "offers.drop(['value'], axis=1, inplace=True)"
      ]
    },
    {
      "cell_type": "markdown",
      "metadata": {
        "colab_type": "text",
        "id": "bppPCn5krj4u"
      },
      "source": [
        "### Merge dataframes"
      ]
    },
    {
      "cell_type": "code",
      "execution_count": 9,
      "metadata": {
        "colab": {
          "base_uri": "https://localhost:8080/",
          "height": 230
        },
        "colab_type": "code",
        "id": "EgxF2b2yrmGs",
        "outputId": "233ec507-1d5a-4263-8fcd-6261a82d8e34"
      },
      "outputs": [
        {
          "data": {
            "text/html": [
              "<div>\n",
              "<style scoped>\n",
              "    .dataframe tbody tr th:only-of-type {\n",
              "        vertical-align: middle;\n",
              "    }\n",
              "\n",
              "    .dataframe tbody tr th {\n",
              "        vertical-align: top;\n",
              "    }\n",
              "\n",
              "    .dataframe thead th {\n",
              "        text-align: right;\n",
              "    }\n",
              "</style>\n",
              "<table border=\"1\" class=\"dataframe\">\n",
              "  <thead>\n",
              "    <tr style=\"text-align: right;\">\n",
              "      <th></th>\n",
              "      <th>person</th>\n",
              "      <th>event</th>\n",
              "      <th>time</th>\n",
              "      <th>offer_completed</th>\n",
              "      <th>offer_received</th>\n",
              "      <th>offer_viewed</th>\n",
              "      <th>gender</th>\n",
              "      <th>age</th>\n",
              "      <th>income</th>\n",
              "      <th>income_na</th>\n",
              "      <th>...</th>\n",
              "      <th>difficulty</th>\n",
              "      <th>duration</th>\n",
              "      <th>offer_type</th>\n",
              "      <th>email</th>\n",
              "      <th>mobile</th>\n",
              "      <th>social</th>\n",
              "      <th>web</th>\n",
              "      <th>bogo</th>\n",
              "      <th>discount</th>\n",
              "      <th>informational</th>\n",
              "    </tr>\n",
              "    <tr>\n",
              "      <th>offer_id</th>\n",
              "      <th></th>\n",
              "      <th></th>\n",
              "      <th></th>\n",
              "      <th></th>\n",
              "      <th></th>\n",
              "      <th></th>\n",
              "      <th></th>\n",
              "      <th></th>\n",
              "      <th></th>\n",
              "      <th></th>\n",
              "      <th></th>\n",
              "      <th></th>\n",
              "      <th></th>\n",
              "      <th></th>\n",
              "      <th></th>\n",
              "      <th></th>\n",
              "      <th></th>\n",
              "      <th></th>\n",
              "      <th></th>\n",
              "      <th></th>\n",
              "      <th></th>\n",
              "    </tr>\n",
              "  </thead>\n",
              "  <tbody>\n",
              "    <tr>\n",
              "      <th>9b98b8c7a33c4b65b9aebfe6a799e6d9</th>\n",
              "      <td>78afa995795e4d85b5d9ceeca43f5fef</td>\n",
              "      <td>offer received</td>\n",
              "      <td>0</td>\n",
              "      <td>0</td>\n",
              "      <td>1</td>\n",
              "      <td>0</td>\n",
              "      <td>F</td>\n",
              "      <td>75</td>\n",
              "      <td>100000.0</td>\n",
              "      <td>0</td>\n",
              "      <td>...</td>\n",
              "      <td>5</td>\n",
              "      <td>7</td>\n",
              "      <td>bogo</td>\n",
              "      <td>1</td>\n",
              "      <td>1</td>\n",
              "      <td>0</td>\n",
              "      <td>1</td>\n",
              "      <td>1</td>\n",
              "      <td>0</td>\n",
              "      <td>0</td>\n",
              "    </tr>\n",
              "    <tr>\n",
              "      <th>9b98b8c7a33c4b65b9aebfe6a799e6d9</th>\n",
              "      <td>78afa995795e4d85b5d9ceeca43f5fef</td>\n",
              "      <td>offer viewed</td>\n",
              "      <td>6</td>\n",
              "      <td>0</td>\n",
              "      <td>0</td>\n",
              "      <td>1</td>\n",
              "      <td>F</td>\n",
              "      <td>75</td>\n",
              "      <td>100000.0</td>\n",
              "      <td>0</td>\n",
              "      <td>...</td>\n",
              "      <td>5</td>\n",
              "      <td>7</td>\n",
              "      <td>bogo</td>\n",
              "      <td>1</td>\n",
              "      <td>1</td>\n",
              "      <td>0</td>\n",
              "      <td>1</td>\n",
              "      <td>1</td>\n",
              "      <td>0</td>\n",
              "      <td>0</td>\n",
              "    </tr>\n",
              "  </tbody>\n",
              "</table>\n",
              "<p>2 rows × 32 columns</p>\n",
              "</div>"
            ],
            "text/plain": [
              "                                                            person  \\\n",
              "offer_id                                                             \n",
              "9b98b8c7a33c4b65b9aebfe6a799e6d9  78afa995795e4d85b5d9ceeca43f5fef   \n",
              "9b98b8c7a33c4b65b9aebfe6a799e6d9  78afa995795e4d85b5d9ceeca43f5fef   \n",
              "\n",
              "                                           event  time  offer_completed  \\\n",
              "offer_id                                                                  \n",
              "9b98b8c7a33c4b65b9aebfe6a799e6d9  offer received     0                0   \n",
              "9b98b8c7a33c4b65b9aebfe6a799e6d9    offer viewed     6                0   \n",
              "\n",
              "                                  offer_received  offer_viewed gender  age  \\\n",
              "offer_id                                                                     \n",
              "9b98b8c7a33c4b65b9aebfe6a799e6d9               1             0      F   75   \n",
              "9b98b8c7a33c4b65b9aebfe6a799e6d9               0             1      F   75   \n",
              "\n",
              "                                    income  income_na  ...  difficulty  \\\n",
              "offer_id                                               ...               \n",
              "9b98b8c7a33c4b65b9aebfe6a799e6d9  100000.0          0  ...           5   \n",
              "9b98b8c7a33c4b65b9aebfe6a799e6d9  100000.0          0  ...           5   \n",
              "\n",
              "                                  duration  offer_type  email  mobile  social  \\\n",
              "offer_id                                                                        \n",
              "9b98b8c7a33c4b65b9aebfe6a799e6d9         7        bogo      1       1       0   \n",
              "9b98b8c7a33c4b65b9aebfe6a799e6d9         7        bogo      1       1       0   \n",
              "\n",
              "                                  web  bogo  discount  informational  \n",
              "offer_id                                                              \n",
              "9b98b8c7a33c4b65b9aebfe6a799e6d9    1     1         0              0  \n",
              "9b98b8c7a33c4b65b9aebfe6a799e6d9    1     1         0              0  \n",
              "\n",
              "[2 rows x 32 columns]"
            ]
          },
          "execution_count": 9,
          "metadata": {},
          "output_type": "execute_result"
        }
      ],
      "source": [
        "offers = offers.merge(profile, left_on='person', right_on='id')\n",
        "offers = offers.merge(portfolio, left_on='offer_id', right_on='id')\n",
        "offers.drop(['id_x', 'id_y'], axis=1, inplace=True)\n",
        "offers.set_index('offer_id', inplace=True)\n",
        "offers.head(2)"
      ]
    },
    {
      "cell_type": "code",
      "execution_count": 10,
      "metadata": {
        "colab": {
          "base_uri": "https://localhost:8080/",
          "height": 130
        },
        "colab_type": "code",
        "id": "1OUXB-pf-X95",
        "outputId": "2fdb9108-f812-4c94-c09d-5c5584ec43c6"
      },
      "outputs": [
        {
          "data": {
            "text/html": [
              "<div>\n",
              "<style scoped>\n",
              "    .dataframe tbody tr th:only-of-type {\n",
              "        vertical-align: middle;\n",
              "    }\n",
              "\n",
              "    .dataframe tbody tr th {\n",
              "        vertical-align: top;\n",
              "    }\n",
              "\n",
              "    .dataframe thead th {\n",
              "        text-align: right;\n",
              "    }\n",
              "</style>\n",
              "<table border=\"1\" class=\"dataframe\">\n",
              "  <thead>\n",
              "    <tr style=\"text-align: right;\">\n",
              "      <th></th>\n",
              "      <th>person</th>\n",
              "      <th>time</th>\n",
              "      <th>amount</th>\n",
              "      <th>gender</th>\n",
              "      <th>age</th>\n",
              "      <th>id</th>\n",
              "      <th>income</th>\n",
              "      <th>income_na</th>\n",
              "      <th>gender_F</th>\n",
              "      <th>gender_M</th>\n",
              "      <th>gender_NA</th>\n",
              "      <th>gender_O</th>\n",
              "      <th>year_joined_2013</th>\n",
              "      <th>year_joined_2014</th>\n",
              "      <th>year_joined_2015</th>\n",
              "      <th>year_joined_2016</th>\n",
              "      <th>year_joined_2017</th>\n",
              "      <th>year_joined_2018</th>\n",
              "    </tr>\n",
              "  </thead>\n",
              "  <tbody>\n",
              "    <tr>\n",
              "      <th>0</th>\n",
              "      <td>02c083884c7d45b39cc68e1314fec56c</td>\n",
              "      <td>0</td>\n",
              "      <td>0.83</td>\n",
              "      <td>F</td>\n",
              "      <td>20</td>\n",
              "      <td>02c083884c7d45b39cc68e1314fec56c</td>\n",
              "      <td>30000.0</td>\n",
              "      <td>0</td>\n",
              "      <td>1</td>\n",
              "      <td>0</td>\n",
              "      <td>0</td>\n",
              "      <td>0</td>\n",
              "      <td>0</td>\n",
              "      <td>0</td>\n",
              "      <td>0</td>\n",
              "      <td>1</td>\n",
              "      <td>0</td>\n",
              "      <td>0</td>\n",
              "    </tr>\n",
              "    <tr>\n",
              "      <th>1</th>\n",
              "      <td>02c083884c7d45b39cc68e1314fec56c</td>\n",
              "      <td>6</td>\n",
              "      <td>1.44</td>\n",
              "      <td>F</td>\n",
              "      <td>20</td>\n",
              "      <td>02c083884c7d45b39cc68e1314fec56c</td>\n",
              "      <td>30000.0</td>\n",
              "      <td>0</td>\n",
              "      <td>1</td>\n",
              "      <td>0</td>\n",
              "      <td>0</td>\n",
              "      <td>0</td>\n",
              "      <td>0</td>\n",
              "      <td>0</td>\n",
              "      <td>0</td>\n",
              "      <td>1</td>\n",
              "      <td>0</td>\n",
              "      <td>0</td>\n",
              "    </tr>\n",
              "  </tbody>\n",
              "</table>\n",
              "</div>"
            ],
            "text/plain": [
              "                             person  time  amount gender  age  \\\n",
              "0  02c083884c7d45b39cc68e1314fec56c     0    0.83      F   20   \n",
              "1  02c083884c7d45b39cc68e1314fec56c     6    1.44      F   20   \n",
              "\n",
              "                                 id   income  income_na  gender_F  gender_M  \\\n",
              "0  02c083884c7d45b39cc68e1314fec56c  30000.0          0         1         0   \n",
              "1  02c083884c7d45b39cc68e1314fec56c  30000.0          0         1         0   \n",
              "\n",
              "   gender_NA  gender_O  year_joined_2013  year_joined_2014  year_joined_2015  \\\n",
              "0          0         0                 0                 0                 0   \n",
              "1          0         0                 0                 0                 0   \n",
              "\n",
              "   year_joined_2016  year_joined_2017  year_joined_2018  \n",
              "0                 1                 0                 0  \n",
              "1                 1                 0                 0  "
            ]
          },
          "execution_count": 10,
          "metadata": {},
          "output_type": "execute_result"
        }
      ],
      "source": [
        "transactions = transactions.merge(profile, left_on='person', right_on='id')\n",
        "transactions.drop(['event'], axis=1, inplace=True)\n",
        "transactions.head(2)"
      ]
    },
    {
      "cell_type": "markdown",
      "metadata": {
        "colab_type": "text",
        "id": "EHuba6atrhLh"
      },
      "source": [
        "### Drop outliers"
      ]
    },
    {
      "cell_type": "code",
      "execution_count": 11,
      "metadata": {
        "colab": {},
        "colab_type": "code",
        "id": "2t4cuLqayO8f"
      },
      "outputs": [],
      "source": [
        "profile = profile.query('age <= 99')\n",
        "offers = offers.query('age <= 99')\n",
        "transactions = transactions.query('age <= 99')"
      ]
    },
    {
      "cell_type": "markdown",
      "metadata": {
        "colab_type": "text",
        "id": "4DvnIxXmD-LT"
      },
      "source": [
        "### Repeat offer exposure"
      ]
    },
    {
      "cell_type": "code",
      "execution_count": 12,
      "metadata": {
        "colab": {},
        "colab_type": "code",
        "id": "6vjI0atvD952"
      },
      "outputs": [],
      "source": [
        "offers.reset_index(inplace=True)"
      ]
    },
    {
      "cell_type": "code",
      "execution_count": 13,
      "metadata": {
        "colab": {
          "base_uri": "https://localhost:8080/",
          "height": 395
        },
        "colab_type": "code",
        "id": "CSuKK0rBF9Nn",
        "outputId": "3a223b3c-1c82-4baf-c41c-24f548354029"
      },
      "outputs": [
        {
          "data": {
            "text/html": [
              "<div>\n",
              "<style scoped>\n",
              "    .dataframe tbody tr th:only-of-type {\n",
              "        vertical-align: middle;\n",
              "    }\n",
              "\n",
              "    .dataframe tbody tr th {\n",
              "        vertical-align: top;\n",
              "    }\n",
              "\n",
              "    .dataframe thead th {\n",
              "        text-align: right;\n",
              "    }\n",
              "</style>\n",
              "<table border=\"1\" class=\"dataframe\">\n",
              "  <thead>\n",
              "    <tr style=\"text-align: right;\">\n",
              "      <th></th>\n",
              "      <th>offer_id</th>\n",
              "      <th>person</th>\n",
              "      <th>event</th>\n",
              "      <th>time</th>\n",
              "      <th>offer_completed</th>\n",
              "      <th>offer_received</th>\n",
              "      <th>offer_viewed</th>\n",
              "      <th>gender</th>\n",
              "      <th>age</th>\n",
              "      <th>income</th>\n",
              "      <th>...</th>\n",
              "      <th>difficulty</th>\n",
              "      <th>duration</th>\n",
              "      <th>offer_type</th>\n",
              "      <th>email</th>\n",
              "      <th>mobile</th>\n",
              "      <th>social</th>\n",
              "      <th>web</th>\n",
              "      <th>bogo</th>\n",
              "      <th>discount</th>\n",
              "      <th>informational</th>\n",
              "    </tr>\n",
              "  </thead>\n",
              "  <tbody>\n",
              "    <tr>\n",
              "      <th>0</th>\n",
              "      <td>9b98b8c7a33c4b65b9aebfe6a799e6d9</td>\n",
              "      <td>78afa995795e4d85b5d9ceeca43f5fef</td>\n",
              "      <td>offer received</td>\n",
              "      <td>0</td>\n",
              "      <td>0</td>\n",
              "      <td>1</td>\n",
              "      <td>0</td>\n",
              "      <td>F</td>\n",
              "      <td>75</td>\n",
              "      <td>100000.0</td>\n",
              "      <td>...</td>\n",
              "      <td>5</td>\n",
              "      <td>7</td>\n",
              "      <td>bogo</td>\n",
              "      <td>1</td>\n",
              "      <td>1</td>\n",
              "      <td>0</td>\n",
              "      <td>1</td>\n",
              "      <td>1</td>\n",
              "      <td>0</td>\n",
              "      <td>0</td>\n",
              "    </tr>\n",
              "    <tr>\n",
              "      <th>1</th>\n",
              "      <td>9b98b8c7a33c4b65b9aebfe6a799e6d9</td>\n",
              "      <td>78afa995795e4d85b5d9ceeca43f5fef</td>\n",
              "      <td>offer viewed</td>\n",
              "      <td>6</td>\n",
              "      <td>0</td>\n",
              "      <td>0</td>\n",
              "      <td>1</td>\n",
              "      <td>F</td>\n",
              "      <td>75</td>\n",
              "      <td>100000.0</td>\n",
              "      <td>...</td>\n",
              "      <td>5</td>\n",
              "      <td>7</td>\n",
              "      <td>bogo</td>\n",
              "      <td>1</td>\n",
              "      <td>1</td>\n",
              "      <td>0</td>\n",
              "      <td>1</td>\n",
              "      <td>1</td>\n",
              "      <td>0</td>\n",
              "      <td>0</td>\n",
              "    </tr>\n",
              "    <tr>\n",
              "      <th>2</th>\n",
              "      <td>9b98b8c7a33c4b65b9aebfe6a799e6d9</td>\n",
              "      <td>78afa995795e4d85b5d9ceeca43f5fef</td>\n",
              "      <td>offer completed</td>\n",
              "      <td>132</td>\n",
              "      <td>1</td>\n",
              "      <td>0</td>\n",
              "      <td>0</td>\n",
              "      <td>F</td>\n",
              "      <td>75</td>\n",
              "      <td>100000.0</td>\n",
              "      <td>...</td>\n",
              "      <td>5</td>\n",
              "      <td>7</td>\n",
              "      <td>bogo</td>\n",
              "      <td>1</td>\n",
              "      <td>1</td>\n",
              "      <td>0</td>\n",
              "      <td>1</td>\n",
              "      <td>1</td>\n",
              "      <td>0</td>\n",
              "      <td>0</td>\n",
              "    </tr>\n",
              "  </tbody>\n",
              "</table>\n",
              "<p>3 rows × 33 columns</p>\n",
              "</div>"
            ],
            "text/plain": [
              "                           offer_id                            person  \\\n",
              "0  9b98b8c7a33c4b65b9aebfe6a799e6d9  78afa995795e4d85b5d9ceeca43f5fef   \n",
              "1  9b98b8c7a33c4b65b9aebfe6a799e6d9  78afa995795e4d85b5d9ceeca43f5fef   \n",
              "2  9b98b8c7a33c4b65b9aebfe6a799e6d9  78afa995795e4d85b5d9ceeca43f5fef   \n",
              "\n",
              "             event  time  offer_completed  offer_received  offer_viewed  \\\n",
              "0   offer received     0                0               1             0   \n",
              "1     offer viewed     6                0               0             1   \n",
              "2  offer completed   132                1               0             0   \n",
              "\n",
              "  gender  age    income  ...  difficulty  duration  offer_type  email  mobile  \\\n",
              "0      F   75  100000.0  ...           5         7        bogo      1       1   \n",
              "1      F   75  100000.0  ...           5         7        bogo      1       1   \n",
              "2      F   75  100000.0  ...           5         7        bogo      1       1   \n",
              "\n",
              "   social  web  bogo  discount  informational  \n",
              "0       0    1     1         0              0  \n",
              "1       0    1     1         0              0  \n",
              "2       0    1     1         0              0  \n",
              "\n",
              "[3 rows x 33 columns]"
            ]
          },
          "execution_count": 13,
          "metadata": {},
          "output_type": "execute_result"
        }
      ],
      "source": [
        "# the same offer can be received and viewed multiple times\n",
        "offers[offers.duplicated(subset=['offer_id', 'person'], keep=False)].head( 3 )"
      ]
    },
    {
      "cell_type": "code",
      "execution_count": 14,
      "metadata": {
        "colab": {
          "base_uri": "https://localhost:8080/",
          "height": 395
        },
        "colab_type": "code",
        "id": "-2iUu6d4ighm",
        "outputId": "713392fd-3f31-40c3-b0d2-60a19689fb23"
      },
      "outputs": [
        {
          "data": {
            "text/html": [
              "<div>\n",
              "<style scoped>\n",
              "    .dataframe tbody tr th:only-of-type {\n",
              "        vertical-align: middle;\n",
              "    }\n",
              "\n",
              "    .dataframe tbody tr th {\n",
              "        vertical-align: top;\n",
              "    }\n",
              "\n",
              "    .dataframe thead th {\n",
              "        text-align: right;\n",
              "    }\n",
              "</style>\n",
              "<table border=\"1\" class=\"dataframe\">\n",
              "  <thead>\n",
              "    <tr style=\"text-align: right;\">\n",
              "      <th></th>\n",
              "      <th>offer_id</th>\n",
              "      <th>person</th>\n",
              "      <th>event</th>\n",
              "      <th>time</th>\n",
              "      <th>offer_completed</th>\n",
              "      <th>offer_received</th>\n",
              "      <th>offer_viewed</th>\n",
              "      <th>gender</th>\n",
              "      <th>age</th>\n",
              "      <th>income</th>\n",
              "      <th>...</th>\n",
              "      <th>email</th>\n",
              "      <th>mobile</th>\n",
              "      <th>social</th>\n",
              "      <th>web</th>\n",
              "      <th>bogo</th>\n",
              "      <th>discount</th>\n",
              "      <th>informational</th>\n",
              "      <th>received_time</th>\n",
              "      <th>viewed_time</th>\n",
              "      <th>completed_time</th>\n",
              "    </tr>\n",
              "  </thead>\n",
              "  <tbody>\n",
              "    <tr>\n",
              "      <th>0</th>\n",
              "      <td>9b98b8c7a33c4b65b9aebfe6a799e6d9</td>\n",
              "      <td>78afa995795e4d85b5d9ceeca43f5fef</td>\n",
              "      <td>offer received</td>\n",
              "      <td>0.5</td>\n",
              "      <td>0</td>\n",
              "      <td>1</td>\n",
              "      <td>0</td>\n",
              "      <td>F</td>\n",
              "      <td>75</td>\n",
              "      <td>100000.0</td>\n",
              "      <td>...</td>\n",
              "      <td>1</td>\n",
              "      <td>1</td>\n",
              "      <td>0</td>\n",
              "      <td>1</td>\n",
              "      <td>1</td>\n",
              "      <td>0</td>\n",
              "      <td>0</td>\n",
              "      <td>0.5</td>\n",
              "      <td>0.0</td>\n",
              "      <td>0.0</td>\n",
              "    </tr>\n",
              "    <tr>\n",
              "      <th>1</th>\n",
              "      <td>9b98b8c7a33c4b65b9aebfe6a799e6d9</td>\n",
              "      <td>78afa995795e4d85b5d9ceeca43f5fef</td>\n",
              "      <td>offer viewed</td>\n",
              "      <td>6.5</td>\n",
              "      <td>0</td>\n",
              "      <td>0</td>\n",
              "      <td>1</td>\n",
              "      <td>F</td>\n",
              "      <td>75</td>\n",
              "      <td>100000.0</td>\n",
              "      <td>...</td>\n",
              "      <td>1</td>\n",
              "      <td>1</td>\n",
              "      <td>0</td>\n",
              "      <td>1</td>\n",
              "      <td>1</td>\n",
              "      <td>0</td>\n",
              "      <td>0</td>\n",
              "      <td>0.0</td>\n",
              "      <td>6.5</td>\n",
              "      <td>0.0</td>\n",
              "    </tr>\n",
              "    <tr>\n",
              "      <th>2</th>\n",
              "      <td>9b98b8c7a33c4b65b9aebfe6a799e6d9</td>\n",
              "      <td>78afa995795e4d85b5d9ceeca43f5fef</td>\n",
              "      <td>offer completed</td>\n",
              "      <td>132.5</td>\n",
              "      <td>1</td>\n",
              "      <td>0</td>\n",
              "      <td>0</td>\n",
              "      <td>F</td>\n",
              "      <td>75</td>\n",
              "      <td>100000.0</td>\n",
              "      <td>...</td>\n",
              "      <td>1</td>\n",
              "      <td>1</td>\n",
              "      <td>0</td>\n",
              "      <td>1</td>\n",
              "      <td>1</td>\n",
              "      <td>0</td>\n",
              "      <td>0</td>\n",
              "      <td>0.0</td>\n",
              "      <td>0.0</td>\n",
              "      <td>132.5</td>\n",
              "    </tr>\n",
              "  </tbody>\n",
              "</table>\n",
              "<p>3 rows × 36 columns</p>\n",
              "</div>"
            ],
            "text/plain": [
              "                           offer_id                            person  \\\n",
              "0  9b98b8c7a33c4b65b9aebfe6a799e6d9  78afa995795e4d85b5d9ceeca43f5fef   \n",
              "1  9b98b8c7a33c4b65b9aebfe6a799e6d9  78afa995795e4d85b5d9ceeca43f5fef   \n",
              "2  9b98b8c7a33c4b65b9aebfe6a799e6d9  78afa995795e4d85b5d9ceeca43f5fef   \n",
              "\n",
              "             event   time  offer_completed  offer_received  offer_viewed  \\\n",
              "0   offer received    0.5                0               1             0   \n",
              "1     offer viewed    6.5                0               0             1   \n",
              "2  offer completed  132.5                1               0             0   \n",
              "\n",
              "  gender  age    income  ...  email  mobile  social  web  bogo  discount  \\\n",
              "0      F   75  100000.0  ...      1       1       0    1     1         0   \n",
              "1      F   75  100000.0  ...      1       1       0    1     1         0   \n",
              "2      F   75  100000.0  ...      1       1       0    1     1         0   \n",
              "\n",
              "   informational  received_time  viewed_time  completed_time  \n",
              "0              0            0.5          0.0             0.0  \n",
              "1              0            0.0          6.5             0.0  \n",
              "2              0            0.0          0.0           132.5  \n",
              "\n",
              "[3 rows x 36 columns]"
            ]
          },
          "execution_count": 14,
          "metadata": {},
          "output_type": "execute_result"
        }
      ],
      "source": [
        "# add receipt, view and completion time columns\n",
        "offers['time'] = offers['time'] + 0.5\n",
        "offers['received_time'] = offers['offer_received'] * offers['time']\n",
        "offers['viewed_time'] = offers['offer_viewed'] * offers['time']\n",
        "offers['completed_time'] = offers['offer_completed'] * offers['time']\n",
        "\n",
        "offers.head( 3 )"
      ]
    },
    {
      "cell_type": "code",
      "execution_count": 15,
      "metadata": {
        "colab": {
          "base_uri": "https://localhost:8080/",
          "height": 430
        },
        "colab_type": "code",
        "id": "23ANqvbpHZlU",
        "outputId": "13ed6f07-3cbc-46bf-b365-bc8342137aa2"
      },
      "outputs": [
        {
          "data": {
            "text/html": [
              "<div>\n",
              "<style scoped>\n",
              "    .dataframe tbody tr th:only-of-type {\n",
              "        vertical-align: middle;\n",
              "    }\n",
              "\n",
              "    .dataframe tbody tr th {\n",
              "        vertical-align: top;\n",
              "    }\n",
              "\n",
              "    .dataframe thead th {\n",
              "        text-align: right;\n",
              "    }\n",
              "</style>\n",
              "<table border=\"1\" class=\"dataframe\">\n",
              "  <thead>\n",
              "    <tr style=\"text-align: right;\">\n",
              "      <th></th>\n",
              "      <th>person</th>\n",
              "      <th>offer_id</th>\n",
              "      <th>time</th>\n",
              "      <th>offer_completed</th>\n",
              "      <th>offer_received</th>\n",
              "      <th>offer_viewed</th>\n",
              "      <th>gender</th>\n",
              "      <th>age</th>\n",
              "      <th>income</th>\n",
              "      <th>income_na</th>\n",
              "      <th>...</th>\n",
              "      <th>email</th>\n",
              "      <th>mobile</th>\n",
              "      <th>social</th>\n",
              "      <th>web</th>\n",
              "      <th>bogo</th>\n",
              "      <th>discount</th>\n",
              "      <th>informational</th>\n",
              "      <th>received_time</th>\n",
              "      <th>viewed_time</th>\n",
              "      <th>completed_time</th>\n",
              "    </tr>\n",
              "  </thead>\n",
              "  <tbody>\n",
              "    <tr>\n",
              "      <th>0</th>\n",
              "      <td>0009655768c64bdeb2e877511632db8f</td>\n",
              "      <td>2906b810c7d4411798c6938adc9daaa5</td>\n",
              "      <td>576.5</td>\n",
              "      <td>1</td>\n",
              "      <td>1</td>\n",
              "      <td>0</td>\n",
              "      <td>M</td>\n",
              "      <td>33</td>\n",
              "      <td>72000.0</td>\n",
              "      <td>0</td>\n",
              "      <td>...</td>\n",
              "      <td>1</td>\n",
              "      <td>1</td>\n",
              "      <td>0</td>\n",
              "      <td>1</td>\n",
              "      <td>0</td>\n",
              "      <td>1</td>\n",
              "      <td>0</td>\n",
              "      <td>576.5</td>\n",
              "      <td>0.0</td>\n",
              "      <td>576.5</td>\n",
              "    </tr>\n",
              "    <tr>\n",
              "      <th>1</th>\n",
              "      <td>0009655768c64bdeb2e877511632db8f</td>\n",
              "      <td>3f207df678b143eea3cee63160fa8bed</td>\n",
              "      <td>372.5</td>\n",
              "      <td>0</td>\n",
              "      <td>1</td>\n",
              "      <td>1</td>\n",
              "      <td>M</td>\n",
              "      <td>33</td>\n",
              "      <td>72000.0</td>\n",
              "      <td>0</td>\n",
              "      <td>...</td>\n",
              "      <td>1</td>\n",
              "      <td>1</td>\n",
              "      <td>0</td>\n",
              "      <td>1</td>\n",
              "      <td>0</td>\n",
              "      <td>0</td>\n",
              "      <td>1</td>\n",
              "      <td>336.5</td>\n",
              "      <td>372.5</td>\n",
              "      <td>0.0</td>\n",
              "    </tr>\n",
              "    <tr>\n",
              "      <th>2</th>\n",
              "      <td>0009655768c64bdeb2e877511632db8f</td>\n",
              "      <td>5a8bc65990b245e5a138643cd4eb9837</td>\n",
              "      <td>192.5</td>\n",
              "      <td>0</td>\n",
              "      <td>1</td>\n",
              "      <td>1</td>\n",
              "      <td>M</td>\n",
              "      <td>33</td>\n",
              "      <td>72000.0</td>\n",
              "      <td>0</td>\n",
              "      <td>...</td>\n",
              "      <td>1</td>\n",
              "      <td>1</td>\n",
              "      <td>1</td>\n",
              "      <td>0</td>\n",
              "      <td>0</td>\n",
              "      <td>0</td>\n",
              "      <td>1</td>\n",
              "      <td>168.5</td>\n",
              "      <td>192.5</td>\n",
              "      <td>0.0</td>\n",
              "    </tr>\n",
              "  </tbody>\n",
              "</table>\n",
              "<p>3 rows × 35 columns</p>\n",
              "</div>"
            ],
            "text/plain": [
              "                             person                          offer_id   time  \\\n",
              "0  0009655768c64bdeb2e877511632db8f  2906b810c7d4411798c6938adc9daaa5  576.5   \n",
              "1  0009655768c64bdeb2e877511632db8f  3f207df678b143eea3cee63160fa8bed  372.5   \n",
              "2  0009655768c64bdeb2e877511632db8f  5a8bc65990b245e5a138643cd4eb9837  192.5   \n",
              "\n",
              "   offer_completed  offer_received  offer_viewed gender  age   income  \\\n",
              "0                1               1             0      M   33  72000.0   \n",
              "1                0               1             1      M   33  72000.0   \n",
              "2                0               1             1      M   33  72000.0   \n",
              "\n",
              "   income_na  ...  email  mobile  social  web  bogo  discount  informational  \\\n",
              "0          0  ...      1       1       0    1     0         1              0   \n",
              "1          0  ...      1       1       0    1     0         0              1   \n",
              "2          0  ...      1       1       1    0     0         0              1   \n",
              "\n",
              "   received_time  viewed_time  completed_time  \n",
              "0          576.5          0.0           576.5  \n",
              "1          336.5        372.5             0.0  \n",
              "2          168.5        192.5             0.0  \n",
              "\n",
              "[3 rows x 35 columns]"
            ]
          },
          "execution_count": 15,
          "metadata": {},
          "output_type": "execute_result"
        }
      ],
      "source": [
        "# an offer can be received multiple times by the same person\n",
        "# we'll use first exposure times, but keep track of the number of exposures\n",
        "\n",
        "offers_mins = offers.groupby(['person', 'offer_id', 'event']).min()\n",
        "offers_sums = offers.groupby(['person', 'offer_id', 'event'])[['offer_received', 'offer_viewed', 'offer_completed']].sum()\n",
        "\n",
        "offers_mins.update(offers_sums)\n",
        "\n",
        "offers_grouped = offers_mins.groupby(['person', 'offer_id']).max().reset_index()\n",
        "\n",
        "offers_grouped.fillna(0, inplace=True)\n",
        "\n",
        "offers_grouped.head( 3 )"
      ]
    },
    {
      "cell_type": "markdown",
      "metadata": {
        "colab_type": "text",
        "id": "nRqAuSfVdNc9"
      },
      "source": [
        "### Drop misattributions"
      ]
    },
    {
      "cell_type": "code",
      "execution_count": 16,
      "metadata": {
        "colab": {},
        "colab_type": "code",
        "id": "H1UibYwWUZB6"
      },
      "outputs": [],
      "source": [
        "offers_grouped['end_time'] = offers_grouped['received_time'] + offers_grouped['duration'] * 24\n",
        "offers_grouped['viewed_on_time'] = offers_grouped.apply(lambda x: 1 if x['viewed_time'] < x['end_time'] and x['viewed_time'] != 0 else 0, axis=1)\n",
        "offers_grouped['completed_on_time'] = offers_grouped.apply(lambda x: 1 if x['completed_time'] < x['end_time'] and x['completed_time'] != 0 else 0, axis=1)\n",
        "\n",
        "# dropping misattributions (completion without view, completion before view, or view before receipt)\n",
        "offers_grouped = offers_grouped.query('~(completed_time > 0 and viewed_time == 0)')\n",
        "offers_grouped = offers_grouped.query('~(completed_time != 0 and completed_time < viewed_time)')\n",
        "offers_grouped = offers_grouped.query('~(viewed_time != 0 and viewed_time < received_time)')"
      ]
    },
    {
      "cell_type": "markdown",
      "metadata": {
        "colab_type": "text",
        "id": "exZ7OwZwKnmY"
      },
      "source": [
        "### Recency & frequency"
      ]
    },
    {
      "cell_type": "code",
      "execution_count": 25,
      "metadata": {
        "colab": {
          "base_uri": "https://localhost:8080/",
          "height": 253
        },
        "colab_type": "code",
        "id": "Z_eLcGZEKoDt",
        "outputId": "48b2091a-9e10-402b-9ad2-8d12fae93b89"
      },
      "outputs": [
        {
          "data": {
            "text/html": [
              "<div>\n",
              "<style scoped>\n",
              "    .dataframe tbody tr th:only-of-type {\n",
              "        vertical-align: middle;\n",
              "    }\n",
              "\n",
              "    .dataframe tbody tr th {\n",
              "        vertical-align: top;\n",
              "    }\n",
              "\n",
              "    .dataframe thead th {\n",
              "        text-align: right;\n",
              "    }\n",
              "</style>\n",
              "<table border=\"1\" class=\"dataframe\">\n",
              "  <thead>\n",
              "    <tr style=\"text-align: right;\">\n",
              "      <th></th>\n",
              "      <th>gender</th>\n",
              "      <th>age</th>\n",
              "      <th>income</th>\n",
              "      <th>income_na</th>\n",
              "      <th>gender_F</th>\n",
              "      <th>gender_M</th>\n",
              "      <th>gender_NA</th>\n",
              "      <th>gender_O</th>\n",
              "      <th>year_joined_2013</th>\n",
              "      <th>year_joined_2014</th>\n",
              "      <th>year_joined_2015</th>\n",
              "      <th>year_joined_2016</th>\n",
              "      <th>year_joined_2017</th>\n",
              "      <th>year_joined_2018</th>\n",
              "      <th>frequency</th>\n",
              "      <th>recency</th>\n",
              "      <th>monetary_value</th>\n",
              "    </tr>\n",
              "    <tr>\n",
              "      <th>person</th>\n",
              "      <th></th>\n",
              "      <th></th>\n",
              "      <th></th>\n",
              "      <th></th>\n",
              "      <th></th>\n",
              "      <th></th>\n",
              "      <th></th>\n",
              "      <th></th>\n",
              "      <th></th>\n",
              "      <th></th>\n",
              "      <th></th>\n",
              "      <th></th>\n",
              "      <th></th>\n",
              "      <th></th>\n",
              "      <th></th>\n",
              "      <th></th>\n",
              "      <th></th>\n",
              "    </tr>\n",
              "  </thead>\n",
              "  <tbody>\n",
              "    <tr>\n",
              "      <th>0610b486422d4921ae7d2bf64640c50b</th>\n",
              "      <td>F</td>\n",
              "      <td>55</td>\n",
              "      <td>112000.0</td>\n",
              "      <td>0</td>\n",
              "      <td>1</td>\n",
              "      <td>0</td>\n",
              "      <td>0</td>\n",
              "      <td>0</td>\n",
              "      <td>0</td>\n",
              "      <td>0</td>\n",
              "      <td>0</td>\n",
              "      <td>0</td>\n",
              "      <td>1</td>\n",
              "      <td>0</td>\n",
              "      <td>2.0</td>\n",
              "      <td>21.0</td>\n",
              "      <td>27.750000</td>\n",
              "    </tr>\n",
              "    <tr>\n",
              "      <th>78afa995795e4d85b5d9ceeca43f5fef</th>\n",
              "      <td>F</td>\n",
              "      <td>75</td>\n",
              "      <td>100000.0</td>\n",
              "      <td>0</td>\n",
              "      <td>1</td>\n",
              "      <td>0</td>\n",
              "      <td>0</td>\n",
              "      <td>0</td>\n",
              "      <td>0</td>\n",
              "      <td>0</td>\n",
              "      <td>0</td>\n",
              "      <td>0</td>\n",
              "      <td>1</td>\n",
              "      <td>0</td>\n",
              "      <td>5.0</td>\n",
              "      <td>16.0</td>\n",
              "      <td>24.320000</td>\n",
              "    </tr>\n",
              "    <tr>\n",
              "      <th>e2127556f4f64592b11af22de27a7932</th>\n",
              "      <td>M</td>\n",
              "      <td>68</td>\n",
              "      <td>70000.0</td>\n",
              "      <td>0</td>\n",
              "      <td>0</td>\n",
              "      <td>1</td>\n",
              "      <td>0</td>\n",
              "      <td>0</td>\n",
              "      <td>0</td>\n",
              "      <td>0</td>\n",
              "      <td>0</td>\n",
              "      <td>0</td>\n",
              "      <td>0</td>\n",
              "      <td>1</td>\n",
              "      <td>1.0</td>\n",
              "      <td>10.0</td>\n",
              "      <td>18.420000</td>\n",
              "    </tr>\n",
              "    <tr>\n",
              "      <th>389bc3fa690240e798340f5a15918d5c</th>\n",
              "      <td>M</td>\n",
              "      <td>65</td>\n",
              "      <td>53000.0</td>\n",
              "      <td>0</td>\n",
              "      <td>0</td>\n",
              "      <td>1</td>\n",
              "      <td>0</td>\n",
              "      <td>0</td>\n",
              "      <td>0</td>\n",
              "      <td>0</td>\n",
              "      <td>0</td>\n",
              "      <td>0</td>\n",
              "      <td>0</td>\n",
              "      <td>1</td>\n",
              "      <td>2.0</td>\n",
              "      <td>22.0</td>\n",
              "      <td>13.445000</td>\n",
              "    </tr>\n",
              "    <tr>\n",
              "      <th>2eeac8d8feae4a8cad5a6af0499a211d</th>\n",
              "      <td>M</td>\n",
              "      <td>58</td>\n",
              "      <td>51000.0</td>\n",
              "      <td>0</td>\n",
              "      <td>0</td>\n",
              "      <td>1</td>\n",
              "      <td>0</td>\n",
              "      <td>0</td>\n",
              "      <td>0</td>\n",
              "      <td>0</td>\n",
              "      <td>0</td>\n",
              "      <td>0</td>\n",
              "      <td>1</td>\n",
              "      <td>0</td>\n",
              "      <td>3.0</td>\n",
              "      <td>15.0</td>\n",
              "      <td>4.433333</td>\n",
              "    </tr>\n",
              "  </tbody>\n",
              "</table>\n",
              "</div>"
            ],
            "text/plain": [
              "                                 gender  age    income  income_na  gender_F  \\\n",
              "person                                                                        \n",
              "0610b486422d4921ae7d2bf64640c50b      F   55  112000.0          0         1   \n",
              "78afa995795e4d85b5d9ceeca43f5fef      F   75  100000.0          0         1   \n",
              "e2127556f4f64592b11af22de27a7932      M   68   70000.0          0         0   \n",
              "389bc3fa690240e798340f5a15918d5c      M   65   53000.0          0         0   \n",
              "2eeac8d8feae4a8cad5a6af0499a211d      M   58   51000.0          0         0   \n",
              "\n",
              "                                  gender_M  gender_NA  gender_O  \\\n",
              "person                                                            \n",
              "0610b486422d4921ae7d2bf64640c50b         0          0         0   \n",
              "78afa995795e4d85b5d9ceeca43f5fef         0          0         0   \n",
              "e2127556f4f64592b11af22de27a7932         1          0         0   \n",
              "389bc3fa690240e798340f5a15918d5c         1          0         0   \n",
              "2eeac8d8feae4a8cad5a6af0499a211d         1          0         0   \n",
              "\n",
              "                                  year_joined_2013  year_joined_2014  \\\n",
              "person                                                                 \n",
              "0610b486422d4921ae7d2bf64640c50b                 0                 0   \n",
              "78afa995795e4d85b5d9ceeca43f5fef                 0                 0   \n",
              "e2127556f4f64592b11af22de27a7932                 0                 0   \n",
              "389bc3fa690240e798340f5a15918d5c                 0                 0   \n",
              "2eeac8d8feae4a8cad5a6af0499a211d                 0                 0   \n",
              "\n",
              "                                  year_joined_2015  year_joined_2016  \\\n",
              "person                                                                 \n",
              "0610b486422d4921ae7d2bf64640c50b                 0                 0   \n",
              "78afa995795e4d85b5d9ceeca43f5fef                 0                 0   \n",
              "e2127556f4f64592b11af22de27a7932                 0                 0   \n",
              "389bc3fa690240e798340f5a15918d5c                 0                 0   \n",
              "2eeac8d8feae4a8cad5a6af0499a211d                 0                 0   \n",
              "\n",
              "                                  year_joined_2017  year_joined_2018  \\\n",
              "person                                                                 \n",
              "0610b486422d4921ae7d2bf64640c50b                 1                 0   \n",
              "78afa995795e4d85b5d9ceeca43f5fef                 1                 0   \n",
              "e2127556f4f64592b11af22de27a7932                 0                 1   \n",
              "389bc3fa690240e798340f5a15918d5c                 0                 1   \n",
              "2eeac8d8feae4a8cad5a6af0499a211d                 1                 0   \n",
              "\n",
              "                                  frequency  recency  monetary_value  \n",
              "person                                                                \n",
              "0610b486422d4921ae7d2bf64640c50b        2.0     21.0       27.750000  \n",
              "78afa995795e4d85b5d9ceeca43f5fef        5.0     16.0       24.320000  \n",
              "e2127556f4f64592b11af22de27a7932        1.0     10.0       18.420000  \n",
              "389bc3fa690240e798340f5a15918d5c        2.0     22.0       13.445000  \n",
              "2eeac8d8feae4a8cad5a6af0499a211d        3.0     15.0        4.433333  "
            ]
          },
          "execution_count": 25,
          "metadata": {},
          "output_type": "execute_result"
        }
      ],
      "source": [
        "# time to Datetime\n",
        "transactions['datetime'] = transactions['time'].apply(lambda x: pd.Timestamp('2000-01-01T12') + pd.Timedelta(hours=x))\n",
        "transactions.head()\n",
        "\n",
        "rf = summary_data_from_transaction_data(transactions, 'person', 'datetime', monetary_value_col='amount')\n",
        "rf.drop('T', axis=1, inplace=True)\n",
        "\n",
        "profile.rename({'id': 'person'}, axis=1, inplace=True)\n",
        "profile.set_index('person', inplace=True)\n",
        "\n",
        "customers = profile.join(rf)\n",
        "customers.head()"
      ]
    },
    {
      "cell_type": "markdown",
      "metadata": {
        "colab_type": "text",
        "id": "p5Ygzaf5hHrA"
      },
      "source": [
        "### View & conversion rates"
      ]
    },
    {
      "cell_type": "code",
      "execution_count": 26,
      "metadata": {
        "colab": {
          "base_uri": "https://localhost:8080/",
          "height": 253
        },
        "colab_type": "code",
        "id": "K5tAYU6XhIKB",
        "outputId": "19f899df-cb38-4a38-ca03-46a9e5e25cfd"
      },
      "outputs": [
        {
          "ename": "KeyboardInterrupt",
          "evalue": "",
          "output_type": "error",
          "traceback": [
            "\u001b[1;31m---------------------------------------------------------------------------\u001b[0m",
            "\u001b[1;31mKeyboardInterrupt\u001b[0m                         Traceback (most recent call last)",
            "\u001b[1;32m<ipython-input-26-044a7d289855>\u001b[0m in \u001b[0;36m<module>\u001b[1;34m\u001b[0m\n\u001b[0;32m     40\u001b[0m     \u001b[0moffers_received_cnt\u001b[0m \u001b[1;33m=\u001b[0m \u001b[1;33m(\u001b[0m\u001b[1;34m'offer_received'\u001b[0m\u001b[1;33m,\u001b[0m \u001b[0msum_greater_than_zero\u001b[0m\u001b[1;33m)\u001b[0m\u001b[1;33m,\u001b[0m\u001b[1;33m\u001b[0m\u001b[1;33m\u001b[0m\u001b[0m\n\u001b[0;32m     41\u001b[0m     \u001b[0moffers_viewed_cnt\u001b[0m \u001b[1;33m=\u001b[0m \u001b[1;33m(\u001b[0m\u001b[1;34m'offer_viewed'\u001b[0m\u001b[1;33m,\u001b[0m \u001b[0msum_greater_than_zero\u001b[0m\u001b[1;33m)\u001b[0m\u001b[1;33m,\u001b[0m\u001b[1;33m\u001b[0m\u001b[1;33m\u001b[0m\u001b[0m\n\u001b[1;32m---> 42\u001b[1;33m     \u001b[0moffers_completed_cnt\u001b[0m \u001b[1;33m=\u001b[0m \u001b[1;33m(\u001b[0m\u001b[1;34m'offer_completed'\u001b[0m\u001b[1;33m,\u001b[0m \u001b[0msum_greater_than_zero\u001b[0m\u001b[1;33m)\u001b[0m\u001b[1;33m,\u001b[0m\u001b[1;33m\u001b[0m\u001b[1;33m\u001b[0m\u001b[0m\n\u001b[0m\u001b[0;32m     43\u001b[0m )\n\u001b[0;32m     44\u001b[0m \u001b[0mtotal_performance\u001b[0m\u001b[1;33m[\u001b[0m\u001b[1;34m'total_cr'\u001b[0m\u001b[1;33m]\u001b[0m \u001b[1;33m=\u001b[0m \u001b[0mtotal_performance\u001b[0m\u001b[1;33m[\u001b[0m\u001b[1;34m'offers_completed_cnt'\u001b[0m\u001b[1;33m]\u001b[0m \u001b[1;33m/\u001b[0m \u001b[0mtotal_performance\u001b[0m\u001b[1;33m[\u001b[0m\u001b[1;34m'offers_viewed_cnt'\u001b[0m\u001b[1;33m]\u001b[0m\u001b[1;33m\u001b[0m\u001b[1;33m\u001b[0m\u001b[0m\n",
            "\u001b[1;32mc:\\Users\\poseidon\\anaconda\\envs\\tensorflow\\lib\\site-packages\\pandas\\core\\groupby\\generic.py\u001b[0m in \u001b[0;36maggregate\u001b[1;34m(self, func, engine, engine_kwargs, *args, **kwargs)\u001b[0m\n\u001b[0;32m    949\u001b[0m         \u001b[0mfunc\u001b[0m \u001b[1;33m=\u001b[0m \u001b[0mmaybe_mangle_lambdas\u001b[0m\u001b[1;33m(\u001b[0m\u001b[0mfunc\u001b[0m\u001b[1;33m)\u001b[0m\u001b[1;33m\u001b[0m\u001b[1;33m\u001b[0m\u001b[0m\n\u001b[0;32m    950\u001b[0m \u001b[1;33m\u001b[0m\u001b[0m\n\u001b[1;32m--> 951\u001b[1;33m         \u001b[0mresult\u001b[0m\u001b[1;33m,\u001b[0m \u001b[0mhow\u001b[0m \u001b[1;33m=\u001b[0m \u001b[0mself\u001b[0m\u001b[1;33m.\u001b[0m\u001b[0m_aggregate\u001b[0m\u001b[1;33m(\u001b[0m\u001b[0mfunc\u001b[0m\u001b[1;33m,\u001b[0m \u001b[1;33m*\u001b[0m\u001b[0margs\u001b[0m\u001b[1;33m,\u001b[0m \u001b[1;33m**\u001b[0m\u001b[0mkwargs\u001b[0m\u001b[1;33m)\u001b[0m\u001b[1;33m\u001b[0m\u001b[1;33m\u001b[0m\u001b[0m\n\u001b[0m\u001b[0;32m    952\u001b[0m         \u001b[1;32mif\u001b[0m \u001b[0mhow\u001b[0m \u001b[1;32mis\u001b[0m \u001b[1;32mNone\u001b[0m\u001b[1;33m:\u001b[0m\u001b[1;33m\u001b[0m\u001b[1;33m\u001b[0m\u001b[0m\n\u001b[0;32m    953\u001b[0m             \u001b[1;32mreturn\u001b[0m \u001b[0mresult\u001b[0m\u001b[1;33m\u001b[0m\u001b[1;33m\u001b[0m\u001b[0m\n",
            "\u001b[1;32mc:\\Users\\poseidon\\anaconda\\envs\\tensorflow\\lib\\site-packages\\pandas\\core\\base.py\u001b[0m in \u001b[0;36m_aggregate\u001b[1;34m(self, arg, *args, **kwargs)\u001b[0m\n\u001b[0;32m    414\u001b[0m \u001b[1;33m\u001b[0m\u001b[0m\n\u001b[0;32m    415\u001b[0m                 \u001b[1;32mtry\u001b[0m\u001b[1;33m:\u001b[0m\u001b[1;33m\u001b[0m\u001b[1;33m\u001b[0m\u001b[0m\n\u001b[1;32m--> 416\u001b[1;33m                     \u001b[0mresult\u001b[0m \u001b[1;33m=\u001b[0m \u001b[0m_agg\u001b[0m\u001b[1;33m(\u001b[0m\u001b[0marg\u001b[0m\u001b[1;33m,\u001b[0m \u001b[0m_agg_1dim\u001b[0m\u001b[1;33m)\u001b[0m\u001b[1;33m\u001b[0m\u001b[1;33m\u001b[0m\u001b[0m\n\u001b[0m\u001b[0;32m    417\u001b[0m                 \u001b[1;32mexcept\u001b[0m \u001b[0mSpecificationError\u001b[0m\u001b[1;33m:\u001b[0m\u001b[1;33m\u001b[0m\u001b[1;33m\u001b[0m\u001b[0m\n\u001b[0;32m    418\u001b[0m \u001b[1;33m\u001b[0m\u001b[0m\n",
            "\u001b[1;32mc:\\Users\\poseidon\\anaconda\\envs\\tensorflow\\lib\\site-packages\\pandas\\core\\base.py\u001b[0m in \u001b[0;36m_agg\u001b[1;34m(arg, func)\u001b[0m\n\u001b[0;32m    381\u001b[0m                 \u001b[0mresult\u001b[0m \u001b[1;33m=\u001b[0m \u001b[1;33m{\u001b[0m\u001b[1;33m}\u001b[0m\u001b[1;33m\u001b[0m\u001b[1;33m\u001b[0m\u001b[0m\n\u001b[0;32m    382\u001b[0m                 \u001b[1;32mfor\u001b[0m \u001b[0mfname\u001b[0m\u001b[1;33m,\u001b[0m \u001b[0magg_how\u001b[0m \u001b[1;32min\u001b[0m \u001b[0marg\u001b[0m\u001b[1;33m.\u001b[0m\u001b[0mitems\u001b[0m\u001b[1;33m(\u001b[0m\u001b[1;33m)\u001b[0m\u001b[1;33m:\u001b[0m\u001b[1;33m\u001b[0m\u001b[1;33m\u001b[0m\u001b[0m\n\u001b[1;32m--> 383\u001b[1;33m                     \u001b[0mresult\u001b[0m\u001b[1;33m[\u001b[0m\u001b[0mfname\u001b[0m\u001b[1;33m]\u001b[0m \u001b[1;33m=\u001b[0m \u001b[0mfunc\u001b[0m\u001b[1;33m(\u001b[0m\u001b[0mfname\u001b[0m\u001b[1;33m,\u001b[0m \u001b[0magg_how\u001b[0m\u001b[1;33m)\u001b[0m\u001b[1;33m\u001b[0m\u001b[1;33m\u001b[0m\u001b[0m\n\u001b[0m\u001b[0;32m    384\u001b[0m                 \u001b[1;32mreturn\u001b[0m \u001b[0mresult\u001b[0m\u001b[1;33m\u001b[0m\u001b[1;33m\u001b[0m\u001b[0m\n\u001b[0;32m    385\u001b[0m \u001b[1;33m\u001b[0m\u001b[0m\n",
            "\u001b[1;32mc:\\Users\\poseidon\\anaconda\\envs\\tensorflow\\lib\\site-packages\\pandas\\core\\base.py\u001b[0m in \u001b[0;36m_agg_1dim\u001b[1;34m(name, how, subset)\u001b[0m\n\u001b[0;32m    365\u001b[0m                         \u001b[1;34m\"nested dictionary is ambiguous in aggregation\"\u001b[0m\u001b[1;33m\u001b[0m\u001b[1;33m\u001b[0m\u001b[0m\n\u001b[0;32m    366\u001b[0m                     )\n\u001b[1;32m--> 367\u001b[1;33m                 \u001b[1;32mreturn\u001b[0m \u001b[0mcolg\u001b[0m\u001b[1;33m.\u001b[0m\u001b[0maggregate\u001b[0m\u001b[1;33m(\u001b[0m\u001b[0mhow\u001b[0m\u001b[1;33m)\u001b[0m\u001b[1;33m\u001b[0m\u001b[1;33m\u001b[0m\u001b[0m\n\u001b[0m\u001b[0;32m    368\u001b[0m \u001b[1;33m\u001b[0m\u001b[0m\n\u001b[0;32m    369\u001b[0m             \u001b[1;32mdef\u001b[0m \u001b[0m_agg_2dim\u001b[0m\u001b[1;33m(\u001b[0m\u001b[0mhow\u001b[0m\u001b[1;33m)\u001b[0m\u001b[1;33m:\u001b[0m\u001b[1;33m\u001b[0m\u001b[1;33m\u001b[0m\u001b[0m\n",
            "\u001b[1;32mc:\\Users\\poseidon\\anaconda\\envs\\tensorflow\\lib\\site-packages\\pandas\\core\\groupby\\generic.py\u001b[0m in \u001b[0;36maggregate\u001b[1;34m(self, func, engine, engine_kwargs, *args, **kwargs)\u001b[0m\n\u001b[0;32m    244\u001b[0m             \u001b[1;31m# but not the class list / tuple itself.\u001b[0m\u001b[1;33m\u001b[0m\u001b[1;33m\u001b[0m\u001b[1;33m\u001b[0m\u001b[0m\n\u001b[0;32m    245\u001b[0m             \u001b[0mfunc\u001b[0m \u001b[1;33m=\u001b[0m \u001b[0mmaybe_mangle_lambdas\u001b[0m\u001b[1;33m(\u001b[0m\u001b[0mfunc\u001b[0m\u001b[1;33m)\u001b[0m\u001b[1;33m\u001b[0m\u001b[1;33m\u001b[0m\u001b[0m\n\u001b[1;32m--> 246\u001b[1;33m             \u001b[0mret\u001b[0m \u001b[1;33m=\u001b[0m \u001b[0mself\u001b[0m\u001b[1;33m.\u001b[0m\u001b[0m_aggregate_multiple_funcs\u001b[0m\u001b[1;33m(\u001b[0m\u001b[0mfunc\u001b[0m\u001b[1;33m)\u001b[0m\u001b[1;33m\u001b[0m\u001b[1;33m\u001b[0m\u001b[0m\n\u001b[0m\u001b[0;32m    247\u001b[0m             \u001b[1;32mif\u001b[0m \u001b[0mrelabeling\u001b[0m\u001b[1;33m:\u001b[0m\u001b[1;33m\u001b[0m\u001b[1;33m\u001b[0m\u001b[0m\n\u001b[0;32m    248\u001b[0m                 \u001b[0mret\u001b[0m\u001b[1;33m.\u001b[0m\u001b[0mcolumns\u001b[0m \u001b[1;33m=\u001b[0m \u001b[0mcolumns\u001b[0m\u001b[1;33m\u001b[0m\u001b[1;33m\u001b[0m\u001b[0m\n",
            "\u001b[1;32mc:\\Users\\poseidon\\anaconda\\envs\\tensorflow\\lib\\site-packages\\pandas\\core\\groupby\\generic.py\u001b[0m in \u001b[0;36m_aggregate_multiple_funcs\u001b[1;34m(self, arg)\u001b[0m\n\u001b[0;32m    317\u001b[0m                 \u001b[0mobj\u001b[0m\u001b[1;33m.\u001b[0m\u001b[0m_reset_cache\u001b[0m\u001b[1;33m(\u001b[0m\u001b[1;33m)\u001b[0m\u001b[1;33m\u001b[0m\u001b[1;33m\u001b[0m\u001b[0m\n\u001b[0;32m    318\u001b[0m                 \u001b[0mobj\u001b[0m\u001b[1;33m.\u001b[0m\u001b[0m_selection\u001b[0m \u001b[1;33m=\u001b[0m \u001b[0mname\u001b[0m\u001b[1;33m\u001b[0m\u001b[1;33m\u001b[0m\u001b[0m\n\u001b[1;32m--> 319\u001b[1;33m             \u001b[0mresults\u001b[0m\u001b[1;33m[\u001b[0m\u001b[0mbase\u001b[0m\u001b[1;33m.\u001b[0m\u001b[0mOutputKey\u001b[0m\u001b[1;33m(\u001b[0m\u001b[0mlabel\u001b[0m\u001b[1;33m=\u001b[0m\u001b[0mname\u001b[0m\u001b[1;33m,\u001b[0m \u001b[0mposition\u001b[0m\u001b[1;33m=\u001b[0m\u001b[0midx\u001b[0m\u001b[1;33m)\u001b[0m\u001b[1;33m]\u001b[0m \u001b[1;33m=\u001b[0m \u001b[0mobj\u001b[0m\u001b[1;33m.\u001b[0m\u001b[0maggregate\u001b[0m\u001b[1;33m(\u001b[0m\u001b[0mfunc\u001b[0m\u001b[1;33m)\u001b[0m\u001b[1;33m\u001b[0m\u001b[1;33m\u001b[0m\u001b[0m\n\u001b[0m\u001b[0;32m    320\u001b[0m \u001b[1;33m\u001b[0m\u001b[0m\n\u001b[0;32m    321\u001b[0m         \u001b[1;32mif\u001b[0m \u001b[0many\u001b[0m\u001b[1;33m(\u001b[0m\u001b[0misinstance\u001b[0m\u001b[1;33m(\u001b[0m\u001b[0mx\u001b[0m\u001b[1;33m,\u001b[0m \u001b[0mDataFrame\u001b[0m\u001b[1;33m)\u001b[0m \u001b[1;32mfor\u001b[0m \u001b[0mx\u001b[0m \u001b[1;32min\u001b[0m \u001b[0mresults\u001b[0m\u001b[1;33m.\u001b[0m\u001b[0mvalues\u001b[0m\u001b[1;33m(\u001b[0m\u001b[1;33m)\u001b[0m\u001b[1;33m)\u001b[0m\u001b[1;33m:\u001b[0m\u001b[1;33m\u001b[0m\u001b[1;33m\u001b[0m\u001b[0m\n",
            "\u001b[1;32mc:\\Users\\poseidon\\anaconda\\envs\\tensorflow\\lib\\site-packages\\pandas\\core\\groupby\\generic.py\u001b[0m in \u001b[0;36maggregate\u001b[1;34m(self, func, engine, engine_kwargs, *args, **kwargs)\u001b[0m\n\u001b[0;32m    259\u001b[0m             \u001b[1;32mtry\u001b[0m\u001b[1;33m:\u001b[0m\u001b[1;33m\u001b[0m\u001b[1;33m\u001b[0m\u001b[0m\n\u001b[0;32m    260\u001b[0m                 return self._python_agg_general(\n\u001b[1;32m--> 261\u001b[1;33m                     \u001b[0mfunc\u001b[0m\u001b[1;33m,\u001b[0m \u001b[1;33m*\u001b[0m\u001b[0margs\u001b[0m\u001b[1;33m,\u001b[0m \u001b[0mengine\u001b[0m\u001b[1;33m=\u001b[0m\u001b[0mengine\u001b[0m\u001b[1;33m,\u001b[0m \u001b[0mengine_kwargs\u001b[0m\u001b[1;33m=\u001b[0m\u001b[0mengine_kwargs\u001b[0m\u001b[1;33m,\u001b[0m \u001b[1;33m**\u001b[0m\u001b[0mkwargs\u001b[0m\u001b[1;33m\u001b[0m\u001b[1;33m\u001b[0m\u001b[0m\n\u001b[0m\u001b[0;32m    262\u001b[0m                 )\n\u001b[0;32m    263\u001b[0m             \u001b[1;32mexcept\u001b[0m \u001b[1;33m(\u001b[0m\u001b[0mValueError\u001b[0m\u001b[1;33m,\u001b[0m \u001b[0mKeyError\u001b[0m\u001b[1;33m)\u001b[0m\u001b[1;33m:\u001b[0m\u001b[1;33m\u001b[0m\u001b[1;33m\u001b[0m\u001b[0m\n",
            "\u001b[1;32mc:\\Users\\poseidon\\anaconda\\envs\\tensorflow\\lib\\site-packages\\pandas\\core\\groupby\\groupby.py\u001b[0m in \u001b[0;36m_python_agg_general\u001b[1;34m(self, func, engine, engine_kwargs, *args, **kwargs)\u001b[0m\n\u001b[0;32m   1081\u001b[0m                 \u001b[1;32mtry\u001b[0m\u001b[1;33m:\u001b[0m\u001b[1;33m\u001b[0m\u001b[1;33m\u001b[0m\u001b[0m\n\u001b[0;32m   1082\u001b[0m                     \u001b[1;31m# if this function is invalid for this dtype, we will ignore it.\u001b[0m\u001b[1;33m\u001b[0m\u001b[1;33m\u001b[0m\u001b[1;33m\u001b[0m\u001b[0m\n\u001b[1;32m-> 1083\u001b[1;33m                     \u001b[0mresult\u001b[0m\u001b[1;33m,\u001b[0m \u001b[0mcounts\u001b[0m \u001b[1;33m=\u001b[0m \u001b[0mself\u001b[0m\u001b[1;33m.\u001b[0m\u001b[0mgrouper\u001b[0m\u001b[1;33m.\u001b[0m\u001b[0magg_series\u001b[0m\u001b[1;33m(\u001b[0m\u001b[0mobj\u001b[0m\u001b[1;33m,\u001b[0m \u001b[0mf\u001b[0m\u001b[1;33m)\u001b[0m\u001b[1;33m\u001b[0m\u001b[1;33m\u001b[0m\u001b[0m\n\u001b[0m\u001b[0;32m   1084\u001b[0m                 \u001b[1;32mexcept\u001b[0m \u001b[0mTypeError\u001b[0m\u001b[1;33m:\u001b[0m\u001b[1;33m\u001b[0m\u001b[1;33m\u001b[0m\u001b[0m\n\u001b[0;32m   1085\u001b[0m                     \u001b[1;32mcontinue\u001b[0m\u001b[1;33m\u001b[0m\u001b[1;33m\u001b[0m\u001b[0m\n",
            "\u001b[1;32mc:\\Users\\poseidon\\anaconda\\envs\\tensorflow\\lib\\site-packages\\pandas\\core\\groupby\\ops.py\u001b[0m in \u001b[0;36magg_series\u001b[1;34m(self, obj, func, engine, engine_kwargs, *args, **kwargs)\u001b[0m\n\u001b[0;32m    642\u001b[0m \u001b[1;33m\u001b[0m\u001b[0m\n\u001b[0;32m    643\u001b[0m         \u001b[1;32mtry\u001b[0m\u001b[1;33m:\u001b[0m\u001b[1;33m\u001b[0m\u001b[1;33m\u001b[0m\u001b[0m\n\u001b[1;32m--> 644\u001b[1;33m             \u001b[1;32mreturn\u001b[0m \u001b[0mself\u001b[0m\u001b[1;33m.\u001b[0m\u001b[0m_aggregate_series_fast\u001b[0m\u001b[1;33m(\u001b[0m\u001b[0mobj\u001b[0m\u001b[1;33m,\u001b[0m \u001b[0mfunc\u001b[0m\u001b[1;33m)\u001b[0m\u001b[1;33m\u001b[0m\u001b[1;33m\u001b[0m\u001b[0m\n\u001b[0m\u001b[0;32m    645\u001b[0m         \u001b[1;32mexcept\u001b[0m \u001b[0mValueError\u001b[0m \u001b[1;32mas\u001b[0m \u001b[0merr\u001b[0m\u001b[1;33m:\u001b[0m\u001b[1;33m\u001b[0m\u001b[1;33m\u001b[0m\u001b[0m\n\u001b[0;32m    646\u001b[0m             \u001b[1;32mif\u001b[0m \u001b[1;34m\"Function does not reduce\"\u001b[0m \u001b[1;32min\u001b[0m \u001b[0mstr\u001b[0m\u001b[1;33m(\u001b[0m\u001b[0merr\u001b[0m\u001b[1;33m)\u001b[0m\u001b[1;33m:\u001b[0m\u001b[1;33m\u001b[0m\u001b[1;33m\u001b[0m\u001b[0m\n",
            "\u001b[1;32mc:\\Users\\poseidon\\anaconda\\envs\\tensorflow\\lib\\site-packages\\pandas\\core\\groupby\\ops.py\u001b[0m in \u001b[0;36m_aggregate_series_fast\u001b[1;34m(self, obj, func)\u001b[0m\n\u001b[0;32m    667\u001b[0m         \u001b[0mgroup_index\u001b[0m \u001b[1;33m=\u001b[0m \u001b[0malgorithms\u001b[0m\u001b[1;33m.\u001b[0m\u001b[0mtake_nd\u001b[0m\u001b[1;33m(\u001b[0m\u001b[0mgroup_index\u001b[0m\u001b[1;33m,\u001b[0m \u001b[0mindexer\u001b[0m\u001b[1;33m,\u001b[0m \u001b[0mallow_fill\u001b[0m\u001b[1;33m=\u001b[0m\u001b[1;32mFalse\u001b[0m\u001b[1;33m)\u001b[0m\u001b[1;33m\u001b[0m\u001b[1;33m\u001b[0m\u001b[0m\n\u001b[0;32m    668\u001b[0m         \u001b[0mgrouper\u001b[0m \u001b[1;33m=\u001b[0m \u001b[0mlibreduction\u001b[0m\u001b[1;33m.\u001b[0m\u001b[0mSeriesGrouper\u001b[0m\u001b[1;33m(\u001b[0m\u001b[0mobj\u001b[0m\u001b[1;33m,\u001b[0m \u001b[0mfunc\u001b[0m\u001b[1;33m,\u001b[0m \u001b[0mgroup_index\u001b[0m\u001b[1;33m,\u001b[0m \u001b[0mngroups\u001b[0m\u001b[1;33m,\u001b[0m \u001b[0mdummy\u001b[0m\u001b[1;33m)\u001b[0m\u001b[1;33m\u001b[0m\u001b[1;33m\u001b[0m\u001b[0m\n\u001b[1;32m--> 669\u001b[1;33m         \u001b[0mresult\u001b[0m\u001b[1;33m,\u001b[0m \u001b[0mcounts\u001b[0m \u001b[1;33m=\u001b[0m \u001b[0mgrouper\u001b[0m\u001b[1;33m.\u001b[0m\u001b[0mget_result\u001b[0m\u001b[1;33m(\u001b[0m\u001b[1;33m)\u001b[0m\u001b[1;33m\u001b[0m\u001b[1;33m\u001b[0m\u001b[0m\n\u001b[0m\u001b[0;32m    670\u001b[0m         \u001b[1;32mreturn\u001b[0m \u001b[0mresult\u001b[0m\u001b[1;33m,\u001b[0m \u001b[0mcounts\u001b[0m\u001b[1;33m\u001b[0m\u001b[1;33m\u001b[0m\u001b[0m\n\u001b[0;32m    671\u001b[0m \u001b[1;33m\u001b[0m\u001b[0m\n",
            "\u001b[1;32mpandas\\_libs\\reduction.pyx\u001b[0m in \u001b[0;36mpandas._libs.reduction.SeriesGrouper.get_result\u001b[1;34m()\u001b[0m\n",
            "\u001b[1;32mpandas\\_libs\\reduction.pyx\u001b[0m in \u001b[0;36mpandas._libs.reduction._BaseGrouper._apply_to_group\u001b[1;34m()\u001b[0m\n",
            "\u001b[1;32mc:\\Users\\poseidon\\anaconda\\envs\\tensorflow\\lib\\site-packages\\pandas\\core\\groupby\\groupby.py\u001b[0m in \u001b[0;36m<lambda>\u001b[1;34m(x)\u001b[0m\n\u001b[0;32m   1058\u001b[0m         \u001b[0mfunc\u001b[0m \u001b[1;33m=\u001b[0m \u001b[0mself\u001b[0m\u001b[1;33m.\u001b[0m\u001b[0m_is_builtin_func\u001b[0m\u001b[1;33m(\u001b[0m\u001b[0mfunc\u001b[0m\u001b[1;33m)\u001b[0m\u001b[1;33m\u001b[0m\u001b[1;33m\u001b[0m\u001b[0m\n\u001b[0;32m   1059\u001b[0m         \u001b[1;32mif\u001b[0m \u001b[0mengine\u001b[0m \u001b[1;33m!=\u001b[0m \u001b[1;34m\"numba\"\u001b[0m\u001b[1;33m:\u001b[0m\u001b[1;33m\u001b[0m\u001b[1;33m\u001b[0m\u001b[0m\n\u001b[1;32m-> 1060\u001b[1;33m             \u001b[0mf\u001b[0m \u001b[1;33m=\u001b[0m \u001b[1;32mlambda\u001b[0m \u001b[0mx\u001b[0m\u001b[1;33m:\u001b[0m \u001b[0mfunc\u001b[0m\u001b[1;33m(\u001b[0m\u001b[0mx\u001b[0m\u001b[1;33m,\u001b[0m \u001b[1;33m*\u001b[0m\u001b[0margs\u001b[0m\u001b[1;33m,\u001b[0m \u001b[1;33m**\u001b[0m\u001b[0mkwargs\u001b[0m\u001b[1;33m)\u001b[0m\u001b[1;33m\u001b[0m\u001b[1;33m\u001b[0m\u001b[0m\n\u001b[0m\u001b[0;32m   1061\u001b[0m \u001b[1;33m\u001b[0m\u001b[0m\n\u001b[0;32m   1062\u001b[0m         \u001b[1;31m# iterate through \"columns\" ex exclusions to populate output dict\u001b[0m\u001b[1;33m\u001b[0m\u001b[1;33m\u001b[0m\u001b[1;33m\u001b[0m\u001b[0m\n",
            "\u001b[1;32m<ipython-input-26-044a7d289855>\u001b[0m in \u001b[0;36msum_greater_than_zero\u001b[1;34m(x)\u001b[0m\n\u001b[0;32m      1\u001b[0m \u001b[1;32mdef\u001b[0m \u001b[0msum_greater_than_zero\u001b[0m\u001b[1;33m(\u001b[0m\u001b[0mx\u001b[0m\u001b[1;33m)\u001b[0m\u001b[1;33m:\u001b[0m\u001b[1;33m\u001b[0m\u001b[1;33m\u001b[0m\u001b[0m\n\u001b[0;32m      2\u001b[0m     \u001b[1;34m\"\"\"Counts non-0 items.\"\"\"\u001b[0m\u001b[1;33m\u001b[0m\u001b[1;33m\u001b[0m\u001b[0m\n\u001b[1;32m----> 3\u001b[1;33m     \u001b[1;32mreturn\u001b[0m \u001b[1;33m(\u001b[0m\u001b[0mx\u001b[0m \u001b[1;33m>\u001b[0m \u001b[1;36m0\u001b[0m\u001b[1;33m)\u001b[0m\u001b[1;33m.\u001b[0m\u001b[0msum\u001b[0m\u001b[1;33m(\u001b[0m\u001b[1;33m)\u001b[0m\u001b[1;33m\u001b[0m\u001b[1;33m\u001b[0m\u001b[0m\n\u001b[0m\u001b[0;32m      4\u001b[0m \u001b[1;33m\u001b[0m\u001b[0m\n\u001b[0;32m      5\u001b[0m \u001b[1;32mdef\u001b[0m \u001b[0mmean_greater_than_zero\u001b[0m\u001b[1;33m(\u001b[0m\u001b[0mx\u001b[0m\u001b[1;33m)\u001b[0m\u001b[1;33m:\u001b[0m\u001b[1;33m\u001b[0m\u001b[1;33m\u001b[0m\u001b[0m\n",
            "\u001b[1;31mKeyboardInterrupt\u001b[0m: "
          ]
        }
      ],
      "source": [
        "def sum_greater_than_zero(x):\n",
        "    \"\"\"Counts non-0 items.\"\"\"\n",
        "    return (x > 0).sum()\n",
        "\n",
        "def mean_greater_than_zero(x):\n",
        "    \"\"\"Average non-0 items.\"\"\"\n",
        "    return x.replace(0, np.nan).mean() \n",
        "\n",
        "# BOGO offers\n",
        "bogo_performance = offers_grouped.query('offer_type == \"bogo\"').groupby(['person']).agg(\n",
        "    offers_received_cnt = ('offer_received', sum_greater_than_zero),\n",
        "    offers_viewed_cnt = ('offer_viewed', sum_greater_than_zero),\n",
        "    offers_completed_cnt = ('offer_completed', sum_greater_than_zero),    \n",
        ")\n",
        "bogo_performance['bogo_vr'] = bogo_performance['offers_viewed_cnt'] / bogo_performance['offers_received_cnt']\n",
        "bogo_performance['bogo_cr'] = bogo_performance['offers_completed_cnt'] / bogo_performance['offers_viewed_cnt']\n",
        "bogo_performance.drop(['offers_viewed_cnt', 'offers_received_cnt', 'offers_completed_cnt'], axis=1, inplace=True)\n",
        "\n",
        "# discount offers\n",
        "discount_performance = offers_grouped.query('offer_type == \"discount\"').groupby(['person']).agg(\n",
        "    offers_received_cnt = ('offer_received', sum_greater_than_zero),\n",
        "    offers_viewed_cnt = ('offer_viewed', sum_greater_than_zero),\n",
        "    offers_completed_cnt = ('offer_completed', sum_greater_than_zero),    \n",
        ")\n",
        "discount_performance['discount_vr'] = discount_performance['offers_viewed_cnt'] / discount_performance['offers_received_cnt']\n",
        "discount_performance['discount_cr'] = discount_performance['offers_completed_cnt'] / discount_performance['offers_viewed_cnt']\n",
        "discount_performance.drop(['offers_viewed_cnt', 'offers_received_cnt', 'offers_completed_cnt'], axis=1, inplace=True)\n",
        "\n",
        "# informational offers view rate\n",
        "informational_performance = offers_grouped.query('offer_type == \"informational\"').groupby(['person']).agg(\n",
        "    offers_received_cnt = ('offer_received', sum_greater_than_zero),\n",
        "    offers_viewed_cnt = ('offer_viewed', sum_greater_than_zero),\n",
        "    offers_completed_cnt = ('offer_completed', sum_greater_than_zero),    \n",
        ")\n",
        "informational_performance['informational_vr'] = informational_performance['offers_viewed_cnt'] / informational_performance['offers_received_cnt']\n",
        "informational_performance.drop(['offers_viewed_cnt', 'offers_received_cnt', 'offers_completed_cnt'], axis=1, inplace=True)\n",
        "\n",
        "# all offers conversion rate\n",
        "total_performance = offers_grouped.query('offer_type != \"informational\"').groupby(['person']).agg(\n",
        "    offers_received_cnt = ('offer_received', sum_greater_than_zero),\n",
        "    offers_viewed_cnt = ('offer_viewed', sum_greater_than_zero),\n",
        "    offers_completed_cnt = ('offer_completed', sum_greater_than_zero),    \n",
        ")\n",
        "total_performance['total_cr'] = total_performance['offers_completed_cnt'] / total_performance['offers_viewed_cnt']\n",
        "total_performance.drop(['offers_viewed_cnt', 'offers_received_cnt', 'offers_completed_cnt'], axis=1, inplace=True)\n",
        "\n",
        "customers = customers.join(bogo_performance).join(discount_performance).join(informational_performance).join(total_performance)\n",
        "customers.fillna(0, inplace=True)\n",
        "customers.head()"
      ]
    },
    {
      "cell_type": "markdown",
      "metadata": {
        "colab_type": "text",
        "id": "gB5AGsaytSq6"
      },
      "source": [
        "### Customer offers"
      ]
    },
    {
      "cell_type": "code",
      "execution_count": 27,
      "metadata": {
        "colab": {
          "base_uri": "https://localhost:8080/",
          "height": 253
        },
        "colab_type": "code",
        "id": "leD_SUAoL313",
        "outputId": "ec6e0cfa-10d9-4a1a-a855-8c52e212397c"
      },
      "outputs": [
        {
          "data": {
            "text/html": [
              "<div>\n",
              "<style scoped>\n",
              "    .dataframe tbody tr th:only-of-type {\n",
              "        vertical-align: middle;\n",
              "    }\n",
              "\n",
              "    .dataframe tbody tr th {\n",
              "        vertical-align: top;\n",
              "    }\n",
              "\n",
              "    .dataframe thead th {\n",
              "        text-align: right;\n",
              "    }\n",
              "</style>\n",
              "<table border=\"1\" class=\"dataframe\">\n",
              "  <thead>\n",
              "    <tr style=\"text-align: right;\">\n",
              "      <th></th>\n",
              "      <th>age</th>\n",
              "      <th>income</th>\n",
              "      <th>gender_F</th>\n",
              "      <th>gender_M</th>\n",
              "      <th>gender_O</th>\n",
              "      <th>year_joined_2013</th>\n",
              "      <th>year_joined_2014</th>\n",
              "      <th>year_joined_2015</th>\n",
              "      <th>year_joined_2016</th>\n",
              "      <th>year_joined_2017</th>\n",
              "      <th>...</th>\n",
              "      <th>web_cnt</th>\n",
              "      <th>bogo_cnt</th>\n",
              "      <th>discount_cnt</th>\n",
              "      <th>informational_cnt</th>\n",
              "      <th>offers_received_cnt</th>\n",
              "      <th>offers_viewed_cnt</th>\n",
              "      <th>offers_completed_cnt</th>\n",
              "      <th>exposures_received_avg</th>\n",
              "      <th>exposures_viewed_avg</th>\n",
              "      <th>exposures_completed_avg</th>\n",
              "    </tr>\n",
              "    <tr>\n",
              "      <th>person</th>\n",
              "      <th></th>\n",
              "      <th></th>\n",
              "      <th></th>\n",
              "      <th></th>\n",
              "      <th></th>\n",
              "      <th></th>\n",
              "      <th></th>\n",
              "      <th></th>\n",
              "      <th></th>\n",
              "      <th></th>\n",
              "      <th></th>\n",
              "      <th></th>\n",
              "      <th></th>\n",
              "      <th></th>\n",
              "      <th></th>\n",
              "      <th></th>\n",
              "      <th></th>\n",
              "      <th></th>\n",
              "      <th></th>\n",
              "      <th></th>\n",
              "      <th></th>\n",
              "    </tr>\n",
              "  </thead>\n",
              "  <tbody>\n",
              "    <tr>\n",
              "      <th>0610b486422d4921ae7d2bf64640c50b</th>\n",
              "      <td>55</td>\n",
              "      <td>112000.0</td>\n",
              "      <td>1</td>\n",
              "      <td>0</td>\n",
              "      <td>0</td>\n",
              "      <td>0</td>\n",
              "      <td>0</td>\n",
              "      <td>0</td>\n",
              "      <td>0</td>\n",
              "      <td>1</td>\n",
              "      <td>...</td>\n",
              "      <td>1.0</td>\n",
              "      <td>0.0</td>\n",
              "      <td>0.0</td>\n",
              "      <td>1.0</td>\n",
              "      <td>1.0</td>\n",
              "      <td>0.0</td>\n",
              "      <td>0.0</td>\n",
              "      <td>1.0</td>\n",
              "      <td>0.000000</td>\n",
              "      <td>0.000000</td>\n",
              "    </tr>\n",
              "    <tr>\n",
              "      <th>78afa995795e4d85b5d9ceeca43f5fef</th>\n",
              "      <td>75</td>\n",
              "      <td>100000.0</td>\n",
              "      <td>1</td>\n",
              "      <td>0</td>\n",
              "      <td>0</td>\n",
              "      <td>0</td>\n",
              "      <td>0</td>\n",
              "      <td>0</td>\n",
              "      <td>0</td>\n",
              "      <td>1</td>\n",
              "      <td>...</td>\n",
              "      <td>1.0</td>\n",
              "      <td>2.0</td>\n",
              "      <td>0.0</td>\n",
              "      <td>1.0</td>\n",
              "      <td>3.0</td>\n",
              "      <td>3.0</td>\n",
              "      <td>2.0</td>\n",
              "      <td>1.0</td>\n",
              "      <td>1.000000</td>\n",
              "      <td>0.666667</td>\n",
              "    </tr>\n",
              "    <tr>\n",
              "      <th>e2127556f4f64592b11af22de27a7932</th>\n",
              "      <td>68</td>\n",
              "      <td>70000.0</td>\n",
              "      <td>0</td>\n",
              "      <td>1</td>\n",
              "      <td>0</td>\n",
              "      <td>0</td>\n",
              "      <td>0</td>\n",
              "      <td>0</td>\n",
              "      <td>0</td>\n",
              "      <td>0</td>\n",
              "      <td>...</td>\n",
              "      <td>4.0</td>\n",
              "      <td>1.0</td>\n",
              "      <td>2.0</td>\n",
              "      <td>1.0</td>\n",
              "      <td>4.0</td>\n",
              "      <td>3.0</td>\n",
              "      <td>2.0</td>\n",
              "      <td>1.0</td>\n",
              "      <td>0.750000</td>\n",
              "      <td>0.500000</td>\n",
              "    </tr>\n",
              "    <tr>\n",
              "      <th>389bc3fa690240e798340f5a15918d5c</th>\n",
              "      <td>65</td>\n",
              "      <td>53000.0</td>\n",
              "      <td>0</td>\n",
              "      <td>1</td>\n",
              "      <td>0</td>\n",
              "      <td>0</td>\n",
              "      <td>0</td>\n",
              "      <td>0</td>\n",
              "      <td>0</td>\n",
              "      <td>0</td>\n",
              "      <td>...</td>\n",
              "      <td>4.0</td>\n",
              "      <td>2.0</td>\n",
              "      <td>2.0</td>\n",
              "      <td>0.0</td>\n",
              "      <td>4.0</td>\n",
              "      <td>4.0</td>\n",
              "      <td>4.0</td>\n",
              "      <td>1.5</td>\n",
              "      <td>1.500000</td>\n",
              "      <td>1.250000</td>\n",
              "    </tr>\n",
              "    <tr>\n",
              "      <th>2eeac8d8feae4a8cad5a6af0499a211d</th>\n",
              "      <td>58</td>\n",
              "      <td>51000.0</td>\n",
              "      <td>0</td>\n",
              "      <td>1</td>\n",
              "      <td>0</td>\n",
              "      <td>0</td>\n",
              "      <td>0</td>\n",
              "      <td>0</td>\n",
              "      <td>0</td>\n",
              "      <td>1</td>\n",
              "      <td>...</td>\n",
              "      <td>3.0</td>\n",
              "      <td>0.0</td>\n",
              "      <td>2.0</td>\n",
              "      <td>1.0</td>\n",
              "      <td>3.0</td>\n",
              "      <td>2.0</td>\n",
              "      <td>1.0</td>\n",
              "      <td>1.0</td>\n",
              "      <td>0.666667</td>\n",
              "      <td>0.333333</td>\n",
              "    </tr>\n",
              "  </tbody>\n",
              "</table>\n",
              "<p>5 rows × 29 columns</p>\n",
              "</div>"
            ],
            "text/plain": [
              "                                  age    income  gender_F  gender_M  gender_O  \\\n",
              "person                                                                          \n",
              "0610b486422d4921ae7d2bf64640c50b   55  112000.0         1         0         0   \n",
              "78afa995795e4d85b5d9ceeca43f5fef   75  100000.0         1         0         0   \n",
              "e2127556f4f64592b11af22de27a7932   68   70000.0         0         1         0   \n",
              "389bc3fa690240e798340f5a15918d5c   65   53000.0         0         1         0   \n",
              "2eeac8d8feae4a8cad5a6af0499a211d   58   51000.0         0         1         0   \n",
              "\n",
              "                                  year_joined_2013  year_joined_2014  \\\n",
              "person                                                                 \n",
              "0610b486422d4921ae7d2bf64640c50b                 0                 0   \n",
              "78afa995795e4d85b5d9ceeca43f5fef                 0                 0   \n",
              "e2127556f4f64592b11af22de27a7932                 0                 0   \n",
              "389bc3fa690240e798340f5a15918d5c                 0                 0   \n",
              "2eeac8d8feae4a8cad5a6af0499a211d                 0                 0   \n",
              "\n",
              "                                  year_joined_2015  year_joined_2016  \\\n",
              "person                                                                 \n",
              "0610b486422d4921ae7d2bf64640c50b                 0                 0   \n",
              "78afa995795e4d85b5d9ceeca43f5fef                 0                 0   \n",
              "e2127556f4f64592b11af22de27a7932                 0                 0   \n",
              "389bc3fa690240e798340f5a15918d5c                 0                 0   \n",
              "2eeac8d8feae4a8cad5a6af0499a211d                 0                 0   \n",
              "\n",
              "                                  year_joined_2017  ...  web_cnt  bogo_cnt  \\\n",
              "person                                              ...                      \n",
              "0610b486422d4921ae7d2bf64640c50b                 1  ...      1.0       0.0   \n",
              "78afa995795e4d85b5d9ceeca43f5fef                 1  ...      1.0       2.0   \n",
              "e2127556f4f64592b11af22de27a7932                 0  ...      4.0       1.0   \n",
              "389bc3fa690240e798340f5a15918d5c                 0  ...      4.0       2.0   \n",
              "2eeac8d8feae4a8cad5a6af0499a211d                 1  ...      3.0       0.0   \n",
              "\n",
              "                                  discount_cnt  informational_cnt  \\\n",
              "person                                                              \n",
              "0610b486422d4921ae7d2bf64640c50b           0.0                1.0   \n",
              "78afa995795e4d85b5d9ceeca43f5fef           0.0                1.0   \n",
              "e2127556f4f64592b11af22de27a7932           2.0                1.0   \n",
              "389bc3fa690240e798340f5a15918d5c           2.0                0.0   \n",
              "2eeac8d8feae4a8cad5a6af0499a211d           2.0                1.0   \n",
              "\n",
              "                                  offers_received_cnt  offers_viewed_cnt  \\\n",
              "person                                                                     \n",
              "0610b486422d4921ae7d2bf64640c50b                  1.0                0.0   \n",
              "78afa995795e4d85b5d9ceeca43f5fef                  3.0                3.0   \n",
              "e2127556f4f64592b11af22de27a7932                  4.0                3.0   \n",
              "389bc3fa690240e798340f5a15918d5c                  4.0                4.0   \n",
              "2eeac8d8feae4a8cad5a6af0499a211d                  3.0                2.0   \n",
              "\n",
              "                                  offers_completed_cnt  \\\n",
              "person                                                   \n",
              "0610b486422d4921ae7d2bf64640c50b                   0.0   \n",
              "78afa995795e4d85b5d9ceeca43f5fef                   2.0   \n",
              "e2127556f4f64592b11af22de27a7932                   2.0   \n",
              "389bc3fa690240e798340f5a15918d5c                   4.0   \n",
              "2eeac8d8feae4a8cad5a6af0499a211d                   1.0   \n",
              "\n",
              "                                  exposures_received_avg  \\\n",
              "person                                                     \n",
              "0610b486422d4921ae7d2bf64640c50b                     1.0   \n",
              "78afa995795e4d85b5d9ceeca43f5fef                     1.0   \n",
              "e2127556f4f64592b11af22de27a7932                     1.0   \n",
              "389bc3fa690240e798340f5a15918d5c                     1.5   \n",
              "2eeac8d8feae4a8cad5a6af0499a211d                     1.0   \n",
              "\n",
              "                                  exposures_viewed_avg  \\\n",
              "person                                                   \n",
              "0610b486422d4921ae7d2bf64640c50b              0.000000   \n",
              "78afa995795e4d85b5d9ceeca43f5fef              1.000000   \n",
              "e2127556f4f64592b11af22de27a7932              0.750000   \n",
              "389bc3fa690240e798340f5a15918d5c              1.500000   \n",
              "2eeac8d8feae4a8cad5a6af0499a211d              0.666667   \n",
              "\n",
              "                                  exposures_completed_avg  \n",
              "person                                                     \n",
              "0610b486422d4921ae7d2bf64640c50b                 0.000000  \n",
              "78afa995795e4d85b5d9ceeca43f5fef                 0.666667  \n",
              "e2127556f4f64592b11af22de27a7932                 0.500000  \n",
              "389bc3fa690240e798340f5a15918d5c                 1.250000  \n",
              "2eeac8d8feae4a8cad5a6af0499a211d                 0.333333  \n",
              "\n",
              "[5 rows x 29 columns]"
            ]
          },
          "execution_count": 27,
          "metadata": {},
          "output_type": "execute_result"
        }
      ],
      "source": [
        "customer_offers = offers_grouped.groupby('person').agg(\n",
        "    reward_avg = ('reward', 'mean'),\n",
        "    difficulty_avg = ('difficulty', 'mean'),\n",
        "    email_cnt = ('email', 'sum'),\n",
        "    mobile_cnt = ('mobile', 'sum'),\n",
        "    social_cnt = ('social', 'sum'),\n",
        "    web_cnt = ('web', 'sum'),\n",
        "    bogo_cnt = ('bogo', 'sum'),\n",
        "    discount_cnt = ('discount', 'sum'),\n",
        "    informational_cnt = ('informational', 'sum'),\n",
        "    offers_received_cnt = ('offer_received', sum_greater_than_zero),\n",
        "    offers_viewed_cnt = ('offer_viewed', sum_greater_than_zero),\n",
        "    offers_completed_cnt = ('offer_completed', sum_greater_than_zero),\n",
        "    exposures_received_avg = ('offer_received', 'mean'),\n",
        "    exposures_viewed_avg = ('offer_viewed', 'mean'),\n",
        "    exposures_completed_avg = ('offer_completed', 'mean'),\n",
        ")\n",
        "\n",
        "customers = customers.join(customer_offers)\n",
        "\n",
        "customers.drop(['gender', 'gender_NA', 'income_na'], axis=1, inplace=True)\n",
        "customers.dropna(inplace=True)\n",
        "\n",
        "customers.head()"
      ]
    },
    {
      "cell_type": "markdown",
      "metadata": {
        "colab_type": "text",
        "id": "-bC7vi-xckix"
      },
      "source": [
        "## Exploratory analysis"
      ]
    },
    {
      "cell_type": "code",
      "execution_count": 28,
      "metadata": {
        "colab": {},
        "colab_type": "code",
        "id": "IuzR1v_AhVqV"
      },
      "outputs": [],
      "source": [
        "starbucks = [\"#008248\", \"#604c4c\", \"#eac784\", \"#f0cddb\", \"#6B9997\"]\n",
        "starbucks_d = [\"#cce6da\", \"#66b491\", \"#008248\"]\n",
        "genders = [\"#8700f9\", \"#00c4a9\", \"#4462D1\"]"
      ]
    },
    {
      "cell_type": "code",
      "execution_count": 29,
      "metadata": {
        "colab": {
          "base_uri": "https://localhost:8080/",
          "height": 294
        },
        "colab_type": "code",
        "id": "wbDgofPdvOOg",
        "outputId": "970d80fd-8a92-4335-e014-89f954f80900"
      },
      "outputs": [
        {
          "data": {
            "image/png": "[encoded data removed]",
            "text/plain": [
              "<Figure size 432x288 with 1 Axes>"
            ]
          },
          "metadata": {
            "needs_background": "light"
          },
          "output_type": "display_data"
        }
      ],
      "source": [
        "sns.set_palette(sns.color_palette(starbucks))\n",
        "\n",
        "df = transactions[['gender', 'age', 'amount', 'income']]\n",
        "\n",
        "ax = sns.countplot(x='gender', data=df)\n",
        "ax.set_title('Gender distribution');"
      ]
    },
    {
      "cell_type": "code",
      "execution_count": 30,
      "metadata": {
        "colab": {
          "base_uri": "https://localhost:8080/",
          "height": 598
        },
        "colab_type": "code",
        "id": "uvLWNS1Wz6kI",
        "outputId": "86d240d0-aab4-4ec7-f2b8-1c1550c09930"
      },
      "outputs": [
        {
          "data": {
            "image/png": "[encoded data removed]",
            "text/plain": [
              "<Figure size 612.125x540 with 12 Axes>"
            ]
          },
          "metadata": {
            "needs_background": "light"
          },
          "output_type": "display_data"
        }
      ],
      "source": [
        "sns.set_palette(sns.color_palette(starbucks))\n",
        "\n",
        "df = transactions[['gender', 'age', 'amount', 'income']].query('gender in [\"F\", \"M\"]')\n",
        "\n",
        "df.rename(columns={'gender': 'Gender'}, inplace=True)\n",
        "df['Gender'] = df['Gender'].map({'M': 'Male', 'F': 'Female'})\n",
        "\n",
        "g = sns.pairplot(df, hue='Gender')\n",
        "g.fig.suptitle(\"Age, income and spending by gender\", y=1.05);"
      ]
    },
    {
      "cell_type": "code",
      "execution_count": 31,
      "metadata": {
        "colab": {
          "base_uri": "https://localhost:8080/",
          "height": 314
        },
        "colab_type": "code",
        "id": "kWCMK36DsvmD",
        "outputId": "1acdc9db-570a-4626-eeb5-2b9a2de49f94"
      },
      "outputs": [
        {
          "data": {
            "image/png": "[encoded data removed]",
            "text/plain": [
              "<Figure size 1440x288 with 3 Axes>"
            ]
          },
          "metadata": {
            "needs_background": "light"
          },
          "output_type": "display_data"
        }
      ],
      "source": [
        "sns.set_palette(sns.color_palette(starbucks))\n",
        "\n",
        "df = offers.groupby(['event', 'offer_type'])['person'].count().reset_index()\n",
        "df['event'] = pd.Categorical(df['event'], [\"offer received\", \"offer viewed\", \"offer completed\"])\n",
        "df.sort_values('event', inplace=True)\n",
        "\n",
        "fig, axs = plt.subplots(ncols=3, figsize=(20, 4))\n",
        "\n",
        "df['event'] = df['event'].map({'offer received': 'Received', 'offer viewed': 'Viewed', 'offer completed': 'Completed'})\n",
        "\n",
        "ax = sns.barplot('event', y='person', data=df.query('offer_type == \"bogo\"'), palette=starbucks_d, ci=None, ax=axs[0])\n",
        "ax.set(xlabel='', ylabel='Count', title='BOGO')\n",
        "\n",
        "ax = sns.barplot('event', y='person', data=df.query('offer_type == \"discount\"'), palette=starbucks_d, ci=None, ax=axs[1])\n",
        "ax.set(xlabel='', ylabel='Count', title='Discount')\n",
        "\n",
        "ax = sns.barplot('event', y='person', data=df.query('offer_type == \"informational\"'), palette=starbucks_d, ci=None, ax=axs[2])\n",
        "ax.set(xlabel='', ylabel='Count', title='Informational')\n",
        "\n",
        "fig.suptitle('Offer conversion funnel by type', size=15, y=1.05);"
      ]
    },
    {
      "cell_type": "markdown",
      "metadata": {
        "colab_type": "text",
        "id": "MkcvlK2SWCmJ"
      },
      "source": [
        "## Modeling"
      ]
    },
    {
      "cell_type": "markdown",
      "metadata": {
        "colab_type": "text",
        "id": "FrwOEuSvZnKx"
      },
      "source": [
        "### Feature scaling"
      ]
    },
    {
      "cell_type": "code",
      "execution_count": 138,
      "metadata": {
        "colab": {
          "base_uri": "https://localhost:8080/",
          "height": 71
        },
        "colab_type": "code",
        "id": "TeNBZEjSZmrU",
        "outputId": "7c1a52ec-cf84-4739-b89f-0a715d6d708a"
      },
      "outputs": [],
      "source": [
        "scaler = StandardScaler().fit(customers)\n",
        "\n",
        "customers_scaled = scaler.transform(customers)"
      ]
    },
    {
      "cell_type": "markdown",
      "metadata": {
        "colab_type": "text",
        "id": "mhsc8sAZa0Hp"
      },
      "source": [
        "### Dimensionality reduction"
      ]
    },
    {
      "cell_type": "code",
      "execution_count": 139,
      "metadata": {
        "colab": {},
        "colab_type": "code",
        "id": "FJLkcJ0AWEFO"
      },
      "outputs": [],
      "source": [
        "pca = PCA()\n",
        "X_pca = pca.fit_transform(customers_scaled)"
      ]
    },
    {
      "cell_type": "code",
      "execution_count": 140,
      "metadata": {
        "colab": {
          "base_uri": "https://localhost:8080/",
          "height": 403
        },
        "colab_type": "code",
        "id": "T40fdVGua-LS",
        "outputId": "9933f93f-729e-48c5-e5aa-9830e4386522"
      },
      "outputs": [
        {
          "data": {
            "image/png": "[encoded data removed]",
            "text/plain": [
              "<Figure size 720x432 with 1 Axes>"
            ]
          },
          "metadata": {
            "needs_background": "light"
          },
          "output_type": "display_data"
        }
      ],
      "source": [
        "# Scree plot (variance explained by each principal component)\n",
        "num_components=len(pca.explained_variance_ratio_)\n",
        "ind = np.arange(num_components)\n",
        "vals = pca.explained_variance_ratio_\n",
        "cumvals = np.cumsum(vals)\n",
        "\n",
        "plt.figure(figsize=(10,6))\n",
        "\n",
        "ax = sns.barplot(ind, vals, palette=starbucks[:1], ci=None)\n",
        "ax2 = sns.lineplot(ind, cumvals, color=starbucks[1], ci=None)\n",
        "ax.grid(b=True, which='major', linewidth=0.5)\n",
        "\n",
        "ax.set_xlabel(\"Principal component\")\n",
        "ax.set_ylabel(\"Variance explained (%)\")\n",
        "plt.title('Explained variance per principal component');"
      ]
    },
    {
      "cell_type": "code",
      "execution_count": 141,
      "metadata": {
        "colab": {
          "base_uri": "https://localhost:8080/",
          "height": 71
        },
        "colab_type": "code",
        "id": "iI-4Erfxbajs",
        "outputId": "d5813633-8557-437f-a8b9-6e13ef69ceac"
      },
      "outputs": [
        {
          "name": "stdout",
          "output_type": "stream",
          "text": [
            "Number of components:  11\n"
          ]
        },
        {
          "data": {
            "text/plain": [
              "array([0.19816865, 0.31212516, 0.39967174, 0.47449703, 0.5345604 ,\n",
              "       0.58836647, 0.63882715, 0.68617646, 0.72616917, 0.76209507,\n",
              "       0.79734628])"
            ]
          },
          "execution_count": 141,
          "metadata": {},
          "output_type": "execute_result"
        }
      ],
      "source": [
        "cum_expl_var_ratio = np.cumsum(pca.explained_variance_ratio_)\n",
        "num_components = len(cum_expl_var_ratio[cum_expl_var_ratio <= 0.8])\n",
        "print('Number of components: ', num_components)\n",
        "\n",
        "# rerun PCA with components that explain 80% of the variance\n",
        "pca = PCA(num_components).fit(customers_scaled)\n",
        "X_pca = pca.transform(customers_scaled)\n",
        "X_pca = pd.DataFrame(X_pca)\n",
        "\n",
        "np.cumsum(pca.explained_variance_ratio_)"
      ]
    },
    {
      "cell_type": "markdown",
      "metadata": {},
      "source": [
        "## Factor Analysis\n",
        "\n",
        "Prior to conducting factor analysis, we need to evaluate if the data is suitable for PCA. The KMO-test and Bartlett’s test of sphericity are used to test if factor analysis will be useful with the data. The KMO-test examines the strength of partial correlation amongst the variables. KMO values closer to 1 indicate the data is well suited for factor analysis. As seen below the overall MSA (Measure of Sampling Adequacy) is 0.9, which indicates the variables are well suited for PCA.\n",
        "\n",
        "\n",
        "Assumptions:\n",
        "\n",
        "- There are no outliers in data.\n",
        "- Sample size should be greater than the factor.\n",
        "- There should not be perfect multicollinearity.\n",
        "- There should not be homoscedasticity between the variables.\n"
      ]
    },
    {
      "cell_type": "markdown",
      "metadata": {},
      "source": [
        "### KMO Test\n",
        "\n",
        "KMO is a measure of the adequacy of sampling “Kaiser-Meyer-Olkin\" and checks if it is possible to factorize the main variables efficiently. The correlation matrix is always the starting point. The variables are more or less correlated, but the others can influence the correlation between the two variables. Hence, with KMO, the partial correlation is used to measure the relation between two variables by removing the effect of the remaining variables."
      ]
    },
    {
      "cell_type": "code",
      "execution_count": 83,
      "metadata": {},
      "outputs": [],
      "source": [
        "#KMO Test\n",
        "#KMO is a measure of the adequacy of sampling “Kaiser-Meyer-Olkin\" and checks \n",
        "#if it is possible to factorize the main variables efficiently.\n",
        "#The correlation matrix is always the starting point. The variables are more or\n",
        "#less correlated, but the others can influence the correlation between the two \n",
        "#variables. Hence, with KMO, the partial correlation is used to measure the \n",
        "#relation between two variables by removing the effect of the remaining variables.\n",
        "\n",
        "def kmo(dataset_corr):\n",
        "    \n",
        "    import numpy as np\n",
        "    import math as math\n",
        "    import collections\n",
        "    \n",
        "    r\"\"\"\n",
        "    \n",
        "    Parameters\n",
        "    ----------\n",
        "    dataset_corr : ndarray\n",
        "        Array containing dataset correlation\n",
        "        \n",
        "    Returns\n",
        "    -------\n",
        "    out : namedtuple\n",
        "        The function outputs the test value (value), the test value per variable (per_variable)\n",
        "       \n",
        "        Ex:\n",
        "        Out[30]: \n",
        "        KMO_Test_Results(value=0.798844102413, \n",
        "        per_variable=\n",
        "        Q1     0.812160468405\n",
        "        Q2     0.774161264483\n",
        "        Q3     0.786819432663\n",
        "        Q4     0.766251123086\n",
        "        Q5     0.800579196084\n",
        "        Q6     0.842927745203 \n",
        "        Q7     0.792010173432 \n",
        "        Q8     0.862037322891\n",
        "        Q9     0.714795031915 \n",
        "        Q10    0.856497242574\n",
        "        dtype: float64)\n",
        "    \n",
        "    References\n",
        "    ----------    \n",
        "    [1] Kaiser, H. F. (1970). A second generation little jiffy. Psychometrika, 35(4), 401-415.\n",
        "    [2] Kaiser, H. F. (1974). An index of factorial simplicity. Psychometrika, 39(1), 31-36.\n",
        "    [3] R. Sarmento and V. Costa, (2017)\n",
        "    \"Comparative Approaches to Using R and Python for Statistical Data Analysis\", IGI-Global\n",
        "    \n",
        "    Examples\n",
        "    --------\n",
        "    illustration how to use the function.\n",
        "    \n",
        "    >>> kmo_test(survey_data.corr(method=\"spearman\"))\n",
        "         \n",
        "\"\"\"\n",
        "    \n",
        "    \n",
        "\n",
        "    #KMO Test\n",
        "    #inverse of the correlation matrix\n",
        "    corr_inv = np.linalg.inv(dataset_corr)\n",
        "    nrow_inv_corr, ncol_inv_corr = dataset_corr.shape\n",
        "    \n",
        "    #partial correlation matrix\n",
        "    A = np.ones((nrow_inv_corr,ncol_inv_corr))\n",
        "    for i in range(0,nrow_inv_corr,1):\n",
        "        for j in range(i,ncol_inv_corr,1):\n",
        "            #above the diagonal\n",
        "            A[i,j] = - (corr_inv[i,j]) / (math.sqrt(corr_inv[i,i] * corr_inv[j,j]))\n",
        "            #below the diagonal\n",
        "            A[j,i] = A[i,j]\n",
        "    \n",
        "    #transform to an array of arrays (\"matrix\" with Python)\n",
        "    dataset_corr = np.asarray(dataset_corr)\n",
        "        \n",
        "    #KMO value\n",
        "    kmo_num = np.sum(np.square(dataset_corr)) - np.sum(np.square(np.diagonal(dataset_corr)))\n",
        "    kmo_denom = kmo_num + np.sum(np.square(A)) - np.sum(np.square(np.diagonal(A)))\n",
        "    kmo_value = kmo_num / kmo_denom\n",
        "    \n",
        "    \n",
        "    kmo_j = [None]*dataset_corr.shape[1]\n",
        "    #KMO per variable (diagonal of the spss anti-image matrix)\n",
        "    for j in range(0, dataset_corr.shape[1]):\n",
        "        kmo_j_num = np.sum(dataset_corr[:,[j]] ** 2) - dataset_corr[j,j] ** 2\n",
        "        kmo_j_denom = kmo_j_num + np.sum(A[:,[j]] ** 2) - A[j,j] ** 2\n",
        "        kmo_j[j] = kmo_j_num / kmo_j_denom\n",
        "\n",
        "    Result = collections.namedtuple(\"KMO_Test_Results\", [\"value\", \"per_variable\"])   \n",
        "\n",
        "    #Output of the results - named tuple    \n",
        "    return Result(value=kmo_value, per_variable=kmo_j)"
      ]
    },
    {
      "cell_type": "code",
      "execution_count": 84,
      "metadata": {},
      "outputs": [
        {
          "data": {
            "text/plain": [
              "KMO_Test_Results(value=0.46381844453555615, per_variable=[0.9124076973750371, 0.7088992045984358, 0.37110516332270105, 0.3734360447646911, 0.016199574650895287, 0.009235456047274614, 0.025047518997589478, 0.044049615787708704, 0.1008821892698476, 0.08670206651639424, 0.12735848100352226, 0.7244069147967618, 0.67848438816288, 0.8002692856478948, 0.6547939087664217, 0.5267609890758808, 0.8136060498889627, 0.8884900286221361, 0.8776423466851347, 0.9139545904155314, 0.6184418243958332, 0.5834630083631107, 0.5563624672808156, 0.8136060498889631, 0.7551928019779918, 0.7055633878984374, 0.4628067877488752, 0.4984402925685724, 0.6910917593522631])"
            ]
          },
          "execution_count": 84,
          "metadata": {},
          "output_type": "execute_result"
        }
      ],
      "source": [
        "kmo( customers.corr(method='spearman') )"
      ]
    },
    {
      "cell_type": "markdown",
      "metadata": {},
      "source": [
        "\n",
        "### Bartlett Sphericity Test\n",
        "\n",
        "Exploratory factor analysis is only useful if the matrix of population correlation is statistically different from the identity matrix. If these are equal, the variables are few interrelated, i.e., the specific factors explain the greater proportion of the variance and the common factors are unimportant. Therefore, it should be defined when the correlations between the original variables are sufficiently high. Thus, the factor analysis is useful in estimation of common factors. With this in mind, the Bartlett Sphericity test can be used. The hypotheses are:\n",
        "\n",
        "H0: the matrix of population correlations is equal to the identity matrix\n",
        "\n",
        "H1: the matrix of population correlations is different from the identity matrix."
      ]
    },
    {
      "cell_type": "code",
      "execution_count": 85,
      "metadata": {},
      "outputs": [],
      "source": [
        "#Bartlett Sphericity Test\n",
        "#Exploratory factor analysis is only useful if the matrix of population \n",
        "#correlation is statistically different from the identity matrix. \n",
        "#If these are equal, the variables are few interrelated, i.e., the specific \n",
        "#factors explain the greater proportion of the variance and the common factors\n",
        "#are unimportant. Therefore, it should be defined when the correlations \n",
        "#between the original variables are sufficiently high. \n",
        "#Thus, the factor analysis is useful in estimation of common factors. \n",
        "#With this in mind, the Bartlett Sphericity test can be used. The hypotheses are:\n",
        "\n",
        "# H0: the matrix of population correlations is equal to the identity matrix\n",
        "# H1: the matrix of population correlations is different from the identity matrix.\n",
        "\n",
        "def bartlett_sphericity(dataset, corr_method=\"pearson\"):\n",
        "    \n",
        "    r\"\"\"\n",
        "    \n",
        "    Parameters\n",
        "    ----------\n",
        "    dataset : dataframe, mandatory (numerical or ordinal variables)\n",
        "        \n",
        "    corr_method : {'pearson', 'spearman'}, optional\n",
        "        \n",
        "    Returns\n",
        "    -------\n",
        "    out : namedtuple\n",
        "        The function outputs the test value (chi2), the degrees of freedom (ddl)\n",
        "        and the p-value.\n",
        "        It also delivers the n_p_ratio if the number of instances (n) divided \n",
        "        by the numbers of variables (p) is more than 5. A warning might be issued.\n",
        "        \n",
        "        Ex:\n",
        "        chi2:  410.27280642443156\n",
        "        ddl:  45.0\n",
        "        p-value:  8.73359410503e-61\n",
        "        n_p_ratio:    20.00\n",
        "        \n",
        "        Out: Bartlett_Sphericity_Test_Results(chi2=410.27280642443156, ddl=45.0, pvalue=8.7335941050291506e-61)\n",
        "    \n",
        "    References\n",
        "    ----------\n",
        "    \n",
        "    [1] Bartlett,  M.  S.,  (1951),  The  Effect  of  Standardization  on  a  chi  square  Approximation  in  Factor\n",
        "    Analysis, Biometrika, 38, 337-344.\n",
        "    [2] R. Sarmento and V. Costa, (2017)\n",
        "    \"Comparative Approaches to Using R and Python for Statistical Data Analysis\", IGI-Global.\n",
        "    \n",
        "    Examples\n",
        "    --------\n",
        "    illustration how to use the function.\n",
        "    \n",
        "    >>> bartlett_sphericity(survey_data, corr_method=\"spearman\")\n",
        "    chi2:  410.27280642443145\n",
        "    ddl:  45.0\n",
        "    p-value:  8.73359410503e-61\n",
        "    n_p_ratio:    20.00\n",
        "    C:\\Users\\Rui Sarmento\\Anaconda3\\lib\\site-packages\\spyderlib\\widgets\\externalshell\\start_ipython_kernel.py:75: \n",
        "    UserWarning: NOTE: we advise  to  use  this  test  only  if  the number of instances (n) divided by the number of variables (p) is lower than 5. Please try the KMO test, for example.\n",
        "    backend_o = CONF.get('ipython_console', 'pylab/backend', 0)\n",
        "    Out[12]: Bartlett_Sphericity_Test_Results(chi2=410.27280642443156, ddl=45.0, pvalue=8.7335941050291506e-61)\n",
        "    \"\"\"\n",
        "    \n",
        "    import numpy as np\n",
        "    import math as math\n",
        "    import scipy.stats as stats\n",
        "    import warnings as warnings\n",
        "    import collections\n",
        "\n",
        "    #Dimensions of the Dataset\n",
        "    n = dataset.shape[0]\n",
        "    p = dataset.shape[1]\n",
        "    n_p_ratio = n / p\n",
        "    \n",
        "    # Several Calculations\n",
        "    chi2 = - (n - 1 - (2 * p + 5) / 6) * math.log(np.linalg.det(dataset.corr(method=corr_method)))\n",
        "    # Freedom Degree\n",
        "    ddl = p * (p - 1) / 2\n",
        "    # p-value\n",
        "    pvalue = 1 - stats.chi2.cdf(chi2 , ddl)\n",
        "    \n",
        "\n",
        "    df = pd.DataFrame([])\n",
        "    df['chi2']      = [chi2]\n",
        "    df['ddl']       = [ddl]\n",
        "    df['p-value']   = [pvalue]\n",
        "    df['n_p_ratio'] = [n_p_ratio]\n",
        "    \n",
        "    \n",
        "    # Output of the function\n",
        "    #\n",
        "    if n_p_ratio > 5 :\n",
        "        print(\"n_p_ratio: {0:8.2f}\".format(n_p_ratio))\n",
        "        warnings.warn(\"NOTE: we advise  to  use  this  test  only  if  the number of instances (n) divided by the number of variables (p) is lower than 5. Please try the KMO test, for example.\")\n",
        "    \n",
        "    return( df )"
      ]
    },
    {
      "cell_type": "code",
      "execution_count": 86,
      "metadata": {},
      "outputs": [
        {
          "name": "stdout",
          "output_type": "stream",
          "text": [
            "Bartlett_Sphericity_Test_Results\n",
            "n_p_ratio:   496.17\n"
          ]
        },
        {
          "name": "stderr",
          "output_type": "stream",
          "text": [
            "c:\\Users\\poseidon\\anaconda\\envs\\tensorflow\\lib\\site-packages\\ipykernel_launcher.py:93: UserWarning: NOTE: we advise  to  use  this  test  only  if  the number of instances (n) divided by the number of variables (p) is lower than 5. Please try the KMO test, for example.\n"
          ]
        },
        {
          "data": {
            "text/html": [
              "<div>\n",
              "<style scoped>\n",
              "    .dataframe tbody tr th:only-of-type {\n",
              "        vertical-align: middle;\n",
              "    }\n",
              "\n",
              "    .dataframe tbody tr th {\n",
              "        vertical-align: top;\n",
              "    }\n",
              "\n",
              "    .dataframe thead th {\n",
              "        text-align: right;\n",
              "    }\n",
              "</style>\n",
              "<table border=\"1\" class=\"dataframe\">\n",
              "  <thead>\n",
              "    <tr style=\"text-align: right;\">\n",
              "      <th></th>\n",
              "      <th>chi2</th>\n",
              "      <th>ddl</th>\n",
              "      <th>p-value</th>\n",
              "      <th>n_p_ratio</th>\n",
              "    </tr>\n",
              "  </thead>\n",
              "  <tbody>\n",
              "    <tr>\n",
              "      <th>0</th>\n",
              "      <td>1.842696e+06</td>\n",
              "      <td>406.0</td>\n",
              "      <td>0.0</td>\n",
              "      <td>496.172414</td>\n",
              "    </tr>\n",
              "  </tbody>\n",
              "</table>\n",
              "</div>"
            ],
            "text/plain": [
              "           chi2    ddl  p-value   n_p_ratio\n",
              "0  1.842696e+06  406.0      0.0  496.172414"
            ]
          },
          "execution_count": 86,
          "metadata": {},
          "output_type": "execute_result"
        }
      ],
      "source": [
        "print('Bartlett_Sphericity_Test_Results')\n",
        "bartlett_sphericity(customers, corr_method=\"spearman\")"
      ]
    },
    {
      "cell_type": "code",
      "execution_count": 92,
      "metadata": {},
      "outputs": [
        {
          "name": "stderr",
          "output_type": "stream",
          "text": [
            "c:\\Users\\poseidon\\anaconda\\envs\\tensorflow\\lib\\site-packages\\factor_analyzer\\factor_analyzer.py:118: RuntimeWarning: invalid value encountered in log\n",
            "  statistic = -np.log(corr_det) * (n - 1 - (2 * p + 5) / 6)\n"
          ]
        },
        {
          "data": {
            "text/plain": [
              "(nan, nan)"
            ]
          },
          "execution_count": 92,
          "metadata": {},
          "output_type": "execute_result"
        }
      ],
      "source": [
        "from factor_analyzer.factor_analyzer import calculate_bartlett_sphericity\n",
        "# chi_square_value,p_value=calculate_bartlett_sphericity(df)\n",
        "calculate_bartlett_sphericity( customers )"
      ]
    },
    {
      "cell_type": "markdown",
      "metadata": {},
      "source": [
        "### Factor analysis"
      ]
    },
    {
      "cell_type": "code",
      "execution_count": 101,
      "metadata": {},
      "outputs": [
        {
          "data": {
            "text/plain": [
              "array([ 5.74689096e+00,  3.30473857e+00,  2.53885098e+00,  2.16993343e+00,\n",
              "        1.74183772e+00,  1.56037596e+00,  1.46335960e+00,  1.37313005e+00,\n",
              "        1.15978862e+00,  1.04185107e+00,  1.02228530e+00,  1.00656978e+00,\n",
              "        8.76397831e-01,  8.09042039e-01,  6.38864235e-01,  5.81862663e-01,\n",
              "        5.11117453e-01,  3.68045876e-01,  3.44497436e-01,  2.80134832e-01,\n",
              "        1.57478501e-01,  1.05115804e-01,  1.01503922e-01,  6.15609257e-02,\n",
              "        3.47664506e-02,  1.25223594e-16, -6.62531361e-16, -7.86811747e-16,\n",
              "       -1.39494094e-15])"
            ]
          },
          "execution_count": 101,
          "metadata": {},
          "output_type": "execute_result"
        }
      ],
      "source": [
        "from factor_analyzer import FactorAnalyzer\n",
        "fa = FactorAnalyzer()\n",
        "\n",
        "fa.set_params(n_factors=15, rotation=None)\n",
        "\n",
        "fa.fit(customers )\n",
        "# Check Eigenvalues\n",
        "ev, v = fa.get_eigenvalues()\n",
        "ev"
      ]
    },
    {
      "cell_type": "markdown",
      "metadata": {},
      "source": [
        "### Determine the number of factors\n",
        "\n",
        "Eigenvalues are nothing but the amount of variance the factor explains. We will select the number of factors whose eigenvalues are greater than 1."
      ]
    },
    {
      "cell_type": "code",
      "execution_count": 130,
      "metadata": {},
      "outputs": [
        {
          "data": {
            "image/png": "[encoded data removed]",
            "text/plain": [
              "<Figure size 432x288 with 1 Axes>"
            ]
          },
          "metadata": {
            "needs_background": "light"
          },
          "output_type": "display_data"
        }
      ],
      "source": [
        "# Create scree plot using matplotlib\n",
        "plt.scatter(range(1,customers.shape[1]+1), ev)\n",
        "plt.plot(range(1,customers.shape[1]+1),ev)\n",
        "plt.title('Scree Plot')\n",
        "plt.xlabel('Factors')\n",
        "plt.ylabel('Eigenvalue')\n",
        "plt.grid()\n",
        "plt.show()"
      ]
    },
    {
      "cell_type": "markdown",
      "metadata": {},
      "source": [
        "## Performing Factor Analysis"
      ]
    },
    {
      "cell_type": "code",
      "execution_count": 132,
      "metadata": {},
      "outputs": [
        {
          "data": {
            "text/plain": [
              "FactorAnalyzer(n_factors=10, rotation='varimax', rotation_kwargs={})"
            ]
          },
          "execution_count": 132,
          "metadata": {},
          "output_type": "execute_result"
        }
      ],
      "source": [
        "# Create factor analysis object and perform factor analysis\n",
        "fa = FactorAnalyzer()\n",
        "\n",
        "fa.set_params(n_factors=10, rotation='varimax')\n",
        "\n",
        "fa.fit( customers )\n"
      ]
    },
    {
      "cell_type": "markdown",
      "metadata": {},
      "source": [
        "### INTERPRETING THE FACTORS"
      ]
    },
    {
      "cell_type": "code",
      "execution_count": 136,
      "metadata": {},
      "outputs": [
        {
          "name": "stdout",
          "output_type": "stream",
          "text": [
            "                                0         1         2         3         4  \\\n",
            "age                     -0.026868 -0.028720  0.082623  0.002331 -0.174185   \n",
            "income                  -0.072792 -0.052118  0.097409 -0.006337 -0.280131   \n",
            "gender_F                -0.045569 -0.016054  0.945137  0.004869 -0.096558   \n",
            "gender_M                 0.042536  0.016322 -0.980542 -0.009031  0.089973   \n",
            "gender_O                 0.009019 -0.001288  0.021670  0.014663  0.015107   \n",
            "year_joined_2013         0.004886 -0.004016 -0.021241 -0.011777  0.101635   \n",
            "year_joined_2014         0.016352  0.006870 -0.063974 -0.012933  0.164927   \n",
            "year_joined_2015        -0.032942 -0.000411  0.001006  0.011828  0.078146   \n",
            "year_joined_2016        -0.035019 -0.015589  0.066562  0.046008  0.116674   \n",
            "year_joined_2017         0.004914 -0.003654  0.012180 -0.004497 -0.161201   \n",
            "year_joined_2018         0.054041  0.022371 -0.040079 -0.018934 -0.200364   \n",
            "frequency                0.045208  0.028219  0.049846  0.118121  0.889767   \n",
            "recency                 -0.009135 -0.011278  0.027024  0.057954  0.658914   \n",
            "monetary_value          -0.066189 -0.051034  0.064800  0.029987 -0.054639   \n",
            "reward_avg               0.055573  0.588310 -0.007499  0.065166  0.013997   \n",
            "difficulty_avg           0.049207  0.870879 -0.018244 -0.031147 -0.021243   \n",
            "email_cnt                0.967610 -0.027051 -0.025703 -0.178380 -0.026150   \n",
            "mobile_cnt               0.933464 -0.219618 -0.021963 -0.110440  0.023811   \n",
            "social_cnt               0.699323 -0.035237 -0.002852  0.027154  0.094775   \n",
            "web_cnt                  0.767065  0.174856 -0.035588 -0.181006 -0.031039   \n",
            "bogo_cnt                 0.520810  0.154178 -0.022504 -0.055486  0.013019   \n",
            "discount_cnt             0.513697  0.490647 -0.026206 -0.086574 -0.008484   \n",
            "informational_cnt        0.230913 -0.779525  0.017917 -0.109496 -0.045756   \n",
            "offers_received_cnt      0.967610 -0.027051 -0.025703 -0.178380 -0.026150   \n",
            "offers_viewed_cnt        0.843256 -0.038124  0.006159  0.145984  0.107641   \n",
            "offers_completed_cnt     0.423812  0.237516  0.083132  0.149338  0.393168   \n",
            "exposures_received_avg  -0.253814  0.031519 -0.006197  0.633932 -0.025861   \n",
            "exposures_viewed_avg    -0.045452  0.004641  0.026734  0.981820  0.075372   \n",
            "exposures_completed_avg -0.061362  0.300812  0.087624  0.474447  0.348812   \n",
            "\n",
            "                                5         6         7         8         9  \n",
            "age                     -0.006248  0.312282 -0.004534  0.033831  0.009376  \n",
            "income                   0.001108  0.614315  0.019365  0.041474  0.023337  \n",
            "gender_F                 0.003356  0.170290  0.022525  0.005571 -0.001994  \n",
            "gender_M                -0.000558 -0.170623 -0.019668  0.010056  0.001875  \n",
            "gender_O                -0.007110  0.014527  0.000023 -0.029510  0.002867  \n",
            "year_joined_2013         0.007861 -0.046981 -0.024621 -0.009515 -0.006944  \n",
            "year_joined_2014        -0.015956 -0.078154 -0.038740 -0.014374 -0.011882  \n",
            "year_joined_2015         0.007257  0.070514 -0.021605 -0.100503  0.989041  \n",
            "year_joined_2016        -0.022042  0.214138 -0.033749  0.956012 -0.103975  \n",
            "year_joined_2017         0.018370 -0.025152  0.879192 -0.374794 -0.268930  \n",
            "year_joined_2018        -0.001664 -0.166458 -0.710001 -0.274984 -0.207733  \n",
            "frequency                0.016824 -0.057718  0.154837  0.111098  0.113701  \n",
            "recency                  0.011275  0.030752  0.079397  0.033223  0.049113  \n",
            "monetary_value          -0.000809  0.495626  0.033221  0.016696  0.019041  \n",
            "reward_avg               0.714526 -0.035127  0.014570  0.018044  0.005642  \n",
            "difficulty_avg          -0.051130 -0.087900 -0.007855  0.008115  0.007702  \n",
            "email_cnt               -0.032622 -0.131983 -0.012777 -0.008347  0.002801  \n",
            "mobile_cnt               0.092921 -0.050096 -0.014102 -0.028773 -0.008992  \n",
            "social_cnt               0.212021  0.010592  0.000512 -0.029466 -0.023969  \n",
            "web_cnt                 -0.181117 -0.076133 -0.026349 -0.025777 -0.007884  \n",
            "bogo_cnt                 0.761986 -0.037474 -0.004862 -0.001271  0.001436  \n",
            "discount_cnt            -0.694438 -0.074385 -0.029023 -0.033894 -0.012535  \n",
            "informational_cnt       -0.178139 -0.064526  0.016962  0.020879  0.011617  \n",
            "offers_received_cnt     -0.032622 -0.131983 -0.012777 -0.008347  0.002801  \n",
            "offers_viewed_cnt        0.059914  0.175600 -0.002023 -0.038406 -0.015296  \n",
            "offers_completed_cnt    -0.002183  0.632572  0.076547  0.016661  0.021850  \n",
            "exposures_received_avg  -0.029995 -0.052343 -0.007141 -0.002559  0.011862  \n",
            "exposures_viewed_avg     0.074369  0.175211  0.010336 -0.029236 -0.005235  \n",
            "exposures_completed_avg  0.007698  0.555207  0.084309  0.030990  0.029835  \n"
          ]
        }
      ],
      "source": [
        "factor_df=pd.DataFrame(fa.loadings_, index=customers.columns)\n",
        "print(factor_df)"
      ]
    },
    {
      "cell_type": "markdown",
      "metadata": {},
      "source": [
        "#### VARIANCE\n",
        "\n",
        "The amount of variance explained by each factor can be found out using the ‘get_factor_variance’ function."
      ]
    },
    {
      "cell_type": "code",
      "execution_count": 142,
      "metadata": {},
      "outputs": [
        {
          "name": "stdout",
          "output_type": "stream",
          "text": [
            "                         0         1         2         3         4         5  \\\n",
            "Variance          5.398286  2.216001  1.910037  1.793189  1.787730  1.708074   \n",
            "Proportional Var  0.186148  0.076414  0.065863  0.061834  0.061646  0.058899   \n",
            "Cumulative Var    0.186148  0.262562  0.328425  0.390259  0.451905  0.510804   \n",
            "\n",
            "                         6         7         8         9  \n",
            "Variance          1.706625  1.329242  1.166088  1.123918  \n",
            "Proportional Var  0.058849  0.045836  0.040210  0.038756  \n",
            "Cumulative Var    0.569653  0.615489  0.655699  0.694455  \n"
          ]
        }
      ],
      "source": [
        "print(pd.DataFrame(fa.get_factor_variance(),index=['Variance','Proportional Var','Cumulative Var']))"
      ]
    },
    {
      "cell_type": "code",
      "execution_count": 143,
      "metadata": {},
      "outputs": [],
      "source": [
        "# Variance Explained by Factors (Image by Author)\n",
        "\n",
        "# The first row represents the variance explained by each factor. \n",
        "# Proportional variance is the variance explained by a factor out of the total variance. \n",
        "# Cumulative variance is nothing but the cumulative sum of proportional variances of each factor. \n",
        "# \n",
        "# \n",
        "# \n",
        "# In our case, the 6 factors together are able to explain 69.4% of the total variance."
      ]
    },
    {
      "cell_type": "code",
      "execution_count": null,
      "metadata": {},
      "outputs": [],
      "source": []
    }
  ],
  "metadata": {
    "colab": {
      "collapsed_sections": [
        "M1x16vltjzgN",
        "JEcHXNVJmaNU",
        "3Rv3n4g4To0e"
      ],
      "machine_shape": "hm",
      "name": "starbucks-offers-customer-segmentation.ipynb",
      "provenance": []
    },
    "kernelspec": {
      "display_name": "Python 3.7.10 ('tensorflow')",
      "language": "python",
      "name": "python3"
    },
    "language_info": {
      "codemirror_mode": {
        "name": "ipython",
        "version": 3
      },
      "file_extension": ".py",
      "mimetype": "text/x-python",
      "name": "python",
      "nbconvert_exporter": "python",
      "pygments_lexer": "ipython3",
      "version": "3.7.10"
    },
    "vscode": {
      "interpreter": {
        "hash": "f8692f46610980770f61291bec1cab73f5a660600a4995e682050817c9e58235"
      }
    }
  },
  "nbformat": 4,
  "nbformat_minor": 0
}
